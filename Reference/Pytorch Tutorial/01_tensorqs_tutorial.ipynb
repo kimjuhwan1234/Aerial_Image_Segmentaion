{
 "cells": [
  {
   "cell_type": "code",
   "execution_count": 1,
   "metadata": {
    "id": "DpH7p5pCLzXd",
    "ExecuteTime": {
     "end_time": "2023-11-25T09:13:19.452082200Z",
     "start_time": "2023-11-25T09:13:19.039080Z"
    }
   },
   "outputs": [],
   "source": [
    "# Google Colab에서 노트북을 실행하실 때에는\n",
    "# https://tutorials.pytorch.kr/beginner/colab 를 참고하세요.\n",
    "%matplotlib inline"
   ]
  },
  {
   "cell_type": "markdown",
   "metadata": {
    "id": "28aDg2aLLzXf"
   },
   "source": [
    "\n",
    "[파이토치(PyTorch) 기본 익히기](intro.html) ||\n",
    "[빠른 시작](quickstart_tutorial.html) ||\n",
    "**텐서(Tensor)** ||\n",
    "[Dataset과 Dataloader](data_tutorial.html) ||\n",
    "[변형(Transform)](transforms_tutorial.html) ||\n",
    "[신경망 모델 구성하기](buildmodel_tutorial.html) ||\n",
    "[Autograd](autogradqs_tutorial.html) ||\n",
    "[최적화(Optimization)](optimization_tutorial.html) ||\n",
    "[모델 저장하고 불러오기](saveloadrun_tutorial.html)\n",
    "\n",
    "# 텐서(Tensor)\n",
    "\n",
    "텐서(tensor)는 배열(array)이나 행렬(matrix)과 매우 유사한 특수한 자료구조입니다.\n",
    "PyTorch에서는 텐서를 사용하여 모델의 입력(input)과 출력(output), 그리고 모델의 매개변수들을 부호화(encode)합니다.\n",
    "\n",
    "텐서는 GPU나 다른 하드웨어 가속기에서 실행할 수 있다는 점만 제외하면 [NumPy](https://numpy.org) 의 ndarray와 유사합니다.\n",
    "실제로 텐서와 NumPy 배열(array)은 종종 동일한 내부(underly) 메모리를 공유할 수 있어 데이터를 복사할 필요가 없습니다. (`bridge-to-np-label` 참고)\n",
    "텐서는 또한 ([Autograd](autogradqs_tutorial.html)_ 장에서 살펴볼) 자동 미분(automatic differentiation)에 최적화되어 있습니다.\n",
    "ndarray에 익숙하다면 Tensor API를 바로 사용할 수 있을 것입니다. 아니라면, 아래 내용을 함께 보시죠!\n"
   ]
  },
  {
   "cell_type": "code",
   "execution_count": 16,
   "metadata": {
    "id": "2NXbtrsBLzXh",
    "ExecuteTime": {
     "end_time": "2023-11-25T09:39:08.206455300Z",
     "start_time": "2023-11-25T09:39:08.203238500Z"
    }
   },
   "outputs": [],
   "source": [
    "import torch\n",
    "import numpy as np"
   ]
  },
  {
   "cell_type": "markdown",
   "metadata": {
    "id": "HBOrKVKOLzXh"
   },
   "source": [
    "## 텐서(tensor) 초기화\n",
    "\n",
    "텐서는 여러가지 방법으로 초기화할 수 있습니다. 다음 예를 살펴보세요:\n",
    "\n",
    "**데이터로부터 직접(directly) 생성하기**\n",
    "\n",
    "데이터로부터 직접 텐서를 생성할 수 있습니다. 데이터의 자료형(data type)은 자동으로 유추합니다.\n",
    "\n"
   ]
  },
  {
   "cell_type": "code",
   "execution_count": 17,
   "metadata": {
    "colab": {
     "base_uri": "https://localhost:8080/"
    },
    "id": "UfKMBqPDLzXh",
    "outputId": "50df1038-9cc3-4a05-875d-2628af528d30",
    "ExecuteTime": {
     "end_time": "2023-11-25T09:39:10.252147400Z",
     "start_time": "2023-11-25T09:39:10.248404Z"
    }
   },
   "outputs": [
    {
     "name": "stdout",
     "output_type": "stream",
     "text": [
      "tensor([[1, 2],\n",
      "        [3, 4]])\n"
     ]
    }
   ],
   "source": [
    "data = [[1, 2],[3, 4]]\n",
    "x_data = torch.tensor(data)\n",
    "print(x_data)"
   ]
  },
  {
   "cell_type": "markdown",
   "metadata": {
    "id": "7sNzMiGpLzXi"
   },
   "source": [
    "**NumPy 배열로부터 생성하기**\n",
    "\n",
    "텐서는 NumPy 배열로 생성할 수 있습니다. (그 반대도 가능합니다 - `bridge-to-np-label` 참고)\n",
    "\n"
   ]
  },
  {
   "cell_type": "code",
   "execution_count": 18,
   "metadata": {
    "colab": {
     "base_uri": "https://localhost:8080/"
    },
    "id": "5oJCAJduLzXi",
    "outputId": "314dfa08-e1bf-41d7-9ffb-b792d072dcc6",
    "ExecuteTime": {
     "end_time": "2023-11-25T09:39:12.366869100Z",
     "start_time": "2023-11-25T09:39:12.346894900Z"
    }
   },
   "outputs": [
    {
     "name": "stdout",
     "output_type": "stream",
     "text": [
      "tensor([[1, 2],\n",
      "        [3, 4]], dtype=torch.int32)\n"
     ]
    }
   ],
   "source": [
    "np_array = np.array(data)\n",
    "x_np = torch.from_numpy(np_array)\n",
    "print(x_np)"
   ]
  },
  {
   "cell_type": "markdown",
   "metadata": {
    "id": "4cfUGDV7LzXi"
   },
   "source": [
    "**다른 텐서로부터 생성하기:**\n",
    "\n",
    "명시적으로 재정의(override)하지 않는다면, 인자로 주어진 텐서의 속성(모양(shape), 자료형(datatype))을 유지합니다.\n",
    "\n"
   ]
  },
  {
   "cell_type": "code",
   "execution_count": 19,
   "metadata": {
    "colab": {
     "base_uri": "https://localhost:8080/"
    },
    "id": "G-qKkdD_LzXi",
    "outputId": "02aca9b0-85fd-482e-ca34-3f9d402ba846",
    "ExecuteTime": {
     "end_time": "2023-11-25T09:39:14.422807100Z",
     "start_time": "2023-11-25T09:39:14.420069300Z"
    }
   },
   "outputs": [
    {
     "name": "stdout",
     "output_type": "stream",
     "text": [
      "Ones Tensor: \n",
      " tensor([[1, 1],\n",
      "        [1, 1]]) \n",
      "\n",
      "Random Tensor: \n",
      " tensor([[0.3765, 0.4500],\n",
      "        [0.2509, 0.2439]]) \n"
     ]
    }
   ],
   "source": [
    "x_ones = torch.ones_like(x_data) # x_data의 속성을 유지합니다.\n",
    "print(f\"Ones Tensor: \\n {x_ones} \\n\")\n",
    "\n",
    "x_rand = torch.rand_like(x_data, dtype=torch.float) # x_data의 속성을 덮어씁니다.\n",
    "print(f\"Random Tensor: \\n {x_rand} \\n\")"
   ]
  },
  {
   "cell_type": "markdown",
   "metadata": {
    "id": "4LCuMUsALzXi"
   },
   "source": [
    "**무작위(random) 또는 상수(constant) 값을 사용하기:**\n",
    "\n",
    "``shape`` 은 텐서의 차원(dimension)을 나타내는 튜플(tuple)로, 아래 함수들에서는 출력 텐서의 차원을 결정합니다.\n",
    "\n"
   ]
  },
  {
   "cell_type": "code",
   "execution_count": 20,
   "metadata": {
    "colab": {
     "base_uri": "https://localhost:8080/"
    },
    "id": "Z9PA-sfeLzXi",
    "outputId": "68d575e3-dffa-48a1-dd75-2bface776442",
    "ExecuteTime": {
     "end_time": "2023-11-25T09:39:16.676593200Z",
     "start_time": "2023-11-25T09:39:16.666110700Z"
    }
   },
   "outputs": [
    {
     "name": "stdout",
     "output_type": "stream",
     "text": [
      "Random Tensor: \n",
      " tensor([[0.2842, 0.0691, 0.0817],\n",
      "        [0.5890, 0.7058, 0.2929]]) \n",
      "\n",
      "torch.Size([2, 3])\n",
      "Ones Tensor: \n",
      " tensor([[1., 1., 1.],\n",
      "        [1., 1., 1.]]) \n",
      "\n",
      "Zeros Tensor: \n",
      " tensor([[0., 0., 0.],\n",
      "        [0., 0., 0.]])\n"
     ]
    }
   ],
   "source": [
    "shape = (2,3,)\n",
    "rand_tensor = torch.rand(shape)\n",
    "ones_tensor = torch.ones(shape)\n",
    "zeros_tensor = torch.zeros(shape)\n",
    "\n",
    "print(f\"Random Tensor: \\n {rand_tensor} \\n\")\n",
    "print(rand_tensor.shape)\n",
    "print(f\"Ones Tensor: \\n {ones_tensor} \\n\")\n",
    "print(f\"Zeros Tensor: \\n {zeros_tensor}\")\n"
   ]
  },
  {
   "cell_type": "markdown",
   "metadata": {
    "id": "Ahm54xvxLzXj"
   },
   "source": [
    "--------------\n",
    "\n",
    "\n"
   ]
  },
  {
   "cell_type": "markdown",
   "metadata": {
    "id": "IMyf-v8eLzXj"
   },
   "source": [
    "## 텐서의 속성(Attribute)\n",
    "\n",
    "텐서의 속성은 텐서의 모양(shape), 자료형(datatype) 및 어느 장치에 저장되는지를 나타냅니다.\n",
    "\n"
   ]
  },
  {
   "cell_type": "code",
   "execution_count": 50,
   "outputs": [
    {
     "name": "stdout",
     "output_type": "stream",
     "text": [
      "cuda\n"
     ]
    }
   ],
   "source": [
    "# GPU 사용 가능한지 확인\n",
    "if torch.cuda.is_available():\n",
    "    # 기본 디바이스를 CUDA로 설정\n",
    "    torch.cuda.set_device(0)  # 0은 사용할 GPU의 인덱스입니다.\n",
    "    device = torch.device(\"cuda\")\n",
    "    print(device)\n",
    "else:\n",
    "    device = torch.device(\"cpu\")\n",
    "    print(device)\n",
    "\n",
    "# 예제 Tensor 생성\n",
    "tensor = torch.rand(3, 4)\n",
    "\n",
    "# Tensor를 GPU로 이동\n",
    "tensor = tensor.to(device)"
   ],
   "metadata": {
    "collapsed": false,
    "ExecuteTime": {
     "end_time": "2023-11-25T10:08:30.140839800Z",
     "start_time": "2023-11-25T10:08:30.134934100Z"
    }
   }
  },
  {
   "cell_type": "code",
   "execution_count": 53,
   "metadata": {
    "colab": {
     "base_uri": "https://localhost:8080/"
    },
    "id": "pF8C3V5RLzXj",
    "outputId": "7eb3b508-b511-4ec9-d537-98d82fcf5096",
    "ExecuteTime": {
     "end_time": "2023-11-25T10:09:25.722124Z",
     "start_time": "2023-11-25T10:09:25.716168400Z"
    }
   },
   "outputs": [
    {
     "name": "stdout",
     "output_type": "stream",
     "text": [
      "Shape of tensor: torch.Size([3, 4])\n",
      "Datatype of tensor: torch.float32\n",
      "Device tensor is stored on: cpu\n"
     ]
    }
   ],
   "source": [
    "tensor = torch.rand(3,4)\n",
    "tensor = tensor.to(device)\n",
    "print(f\"Shape of tensor: {tensor.shape}\")\n",
    "print(f\"Datatype of tensor: {tensor.dtype}\")\n",
    "print(f\"Device tensor is stored on: {tensor.device}\")"
   ]
  },
  {
   "cell_type": "code",
   "execution_count": 28,
   "outputs": [
    {
     "name": "stdout",
     "output_type": "stream",
     "text": [
      "True\n",
      "0\n",
      "NVIDIA GeForce GTX 1650 SUPER\n",
      "cuda:0\n"
     ]
    }
   ],
   "source": [
    "# GPU가 사용 가능한지 확인\n",
    "print(torch.cuda.is_available())\n",
    "\n",
    "# 현재 사용 중인 GPU 디바이스의 인덱스 확인\n",
    "print(torch.cuda.current_device())\n",
    "\n",
    "# 현재 사용 중인 GPU 디바이스의 이름 확인\n",
    "print(torch.cuda.get_device_name(torch.cuda.current_device()))\n",
    "\n",
    "# 텐서를 GPU로 이동\n",
    "tensor = tensor.to(\"cuda\")\n",
    "\n",
    "# 이후에 다시 텐서의 디바이스 확인\n",
    "print(tensor.device) "
   ],
   "metadata": {
    "collapsed": false,
    "ExecuteTime": {
     "end_time": "2023-11-25T09:41:58.933876Z",
     "start_time": "2023-11-25T09:41:58.907438200Z"
    }
   }
  },
  {
   "cell_type": "markdown",
   "metadata": {
    "id": "X64JTIqwLzXj"
   },
   "source": [
    "## 텐서 연산(Operation)\n",
    "\n",
    "전치(transposing), 인덱싱(indexing), 슬라이싱(slicing), 수학 계산, 선형 대수,\n",
    "임의 샘플링(random sampling) 등, 100가지 이상의 텐서 연산들을\n",
    "[여기](https://pytorch.org/docs/stable/torch.html)_ 에서 확인할 수 있습니다.\n",
    "\n",
    "각 연산들은 (일반적으로 CPU보다 빠른) GPU에서 실행할 수 있습니다. Colab을 사용한다면,\n",
    "Edit > Notebook Settings 에서 GPU를 할당할 수 있습니다.\n",
    "\n",
    "기본적으로 텐서는 CPU에 생성됩니다. ``.to`` 메소드를 사용하면 (GPU의 가용성(availability)을 확인한 뒤)\n",
    "GPU로 텐서를 명시적으로 이동할 수 있습니다. 장치들 간에 큰 텐서들을 복사하는 것은 시간과 메모리 측면에서 비용이\n",
    "많이든다는 것을 기억하세요!\n",
    "\n"
   ]
  },
  {
   "cell_type": "code",
   "execution_count": 25,
   "metadata": {
    "colab": {
     "base_uri": "https://localhost:8080/"
    },
    "id": "UnzQTTPqLzXj",
    "outputId": "36123e70-2d1b-42c2-944e-ce9c5b9e7f8d",
    "ExecuteTime": {
     "end_time": "2023-11-25T09:39:24.901798500Z",
     "start_time": "2023-11-25T09:39:24.897222400Z"
    }
   },
   "outputs": [
    {
     "name": "stdout",
     "output_type": "stream",
     "text": [
      "True\n"
     ]
    }
   ],
   "source": [
    "# GPU가 존재하면 텐서를 이동합니다\n",
    "print(torch.cuda.is_available())\n",
    "if torch.cuda.is_available():\n",
    "    tensor = tensor.to(\"cuda\")"
   ]
  },
  {
   "cell_type": "code",
   "source": [
    "print(f\"Device tensor is stored on: {tensor.device}\")"
   ],
   "metadata": {
    "colab": {
     "base_uri": "https://localhost:8080/"
    },
    "id": "JbYK5ZgkRHb9",
    "outputId": "204b52c7-b64b-4722-927b-d67a8f08b118",
    "ExecuteTime": {
     "end_time": "2023-11-25T09:44:37.491883700Z",
     "start_time": "2023-11-25T09:44:37.478020500Z"
    }
   },
   "execution_count": 31,
   "outputs": [
    {
     "name": "stdout",
     "output_type": "stream",
     "text": [
      "Device tensor is stored on: cuda:0\n"
     ]
    }
   ]
  },
  {
   "cell_type": "markdown",
   "metadata": {
    "id": "06sF5a9wLzXj"
   },
   "source": [
    "목록에서 몇몇 연산들을 시도해보세요.\n",
    "NumPy API에 익숙하다면 Tensor API를 사용하는 것은 식은 죽 먹기라는 것을 알게 되실 겁니다.\n",
    "\n",
    "\n"
   ]
  },
  {
   "cell_type": "markdown",
   "metadata": {
    "id": "XONqIzVrLzXj"
   },
   "source": [
    "**NumPy식의 표준 인덱싱과 슬라이싱:**\n",
    "\n"
   ]
  },
  {
   "cell_type": "code",
   "execution_count": 36,
   "metadata": {
    "colab": {
     "base_uri": "https://localhost:8080/"
    },
    "id": "QnjtAsioLzXj",
    "outputId": "91fb4c17-8cc4-486b-d720-a15f4a477dfd",
    "ExecuteTime": {
     "end_time": "2023-11-25T09:48:38.372942800Z",
     "start_time": "2023-11-25T09:48:38.367138500Z"
    }
   },
   "outputs": [
    {
     "name": "stdout",
     "output_type": "stream",
     "text": [
      "tensor([[1., 1., 1., 1.],\n",
      "        [1., 1., 1., 1.],\n",
      "        [1., 1., 1., 1.],\n",
      "        [1., 1., 1., 1.]])\n",
      "First row: tensor([1., 1., 1., 1.])\n",
      "First column: tensor([1., 1., 1., 1.])\n",
      "Last column: tensor([1., 1., 1., 1.])\n",
      "tensor([[1., 0., 1., 1.],\n",
      "        [1., 0., 1., 1.],\n",
      "        [1., 0., 1., 1.],\n",
      "        [1., 0., 1., 1.]])\n"
     ]
    }
   ],
   "source": [
    "tensor = torch.ones(4, 4)\n",
    "print(tensor)\n",
    "print(f\"First row: {tensor[0]}\")\n",
    "print(f\"First column: {tensor[:, 0]}\")\n",
    "print(f\"Last column: {tensor[:, -1]}\")\n",
    "tensor[:,1] = 0\n",
    "print(tensor)"
   ]
  },
  {
   "cell_type": "markdown",
   "metadata": {
    "id": "-6twFms-LzXk"
   },
   "source": [
    "**텐서 합치기** ``torch.cat`` 을 사용하여 주어진 차원에 따라 일련의 텐서를 연결할 수 있습니다.\n",
    "``torch.cat`` 과 미묘하게 다른 또 다른 텐서 결합 연산인\n",
    "[torch.stack](https://pytorch.org/docs/stable/generated/torch.stack.html)_ 도 참고해보세요.\n",
    "\n"
   ]
  },
  {
   "cell_type": "code",
   "execution_count": 37,
   "metadata": {
    "colab": {
     "base_uri": "https://localhost:8080/"
    },
    "id": "DBrrzj5NLzXk",
    "outputId": "1cfc92f9-433c-4cfb-f3ea-acd4fc593c54",
    "ExecuteTime": {
     "end_time": "2023-11-25T09:49:08.405727600Z",
     "start_time": "2023-11-25T09:49:08.382875700Z"
    }
   },
   "outputs": [
    {
     "name": "stdout",
     "output_type": "stream",
     "text": [
      "tensor([[1., 0., 1., 1., 1., 0., 1., 1., 1., 0., 1., 1.],\n",
      "        [1., 0., 1., 1., 1., 0., 1., 1., 1., 0., 1., 1.],\n",
      "        [1., 0., 1., 1., 1., 0., 1., 1., 1., 0., 1., 1.],\n",
      "        [1., 0., 1., 1., 1., 0., 1., 1., 1., 0., 1., 1.]]) torch.Size([4, 12])\n"
     ]
    }
   ],
   "source": [
    "t1 = torch.cat([tensor, tensor, tensor], dim=1)\n",
    "print(t1, t1.shape)"
   ]
  },
  {
   "cell_type": "code",
   "source": [
    "t2 = torch.stack((tensor, tensor, tensor))\n",
    "print(t2, t2.shape)"
   ],
   "metadata": {
    "colab": {
     "base_uri": "https://localhost:8080/"
    },
    "id": "RlOURB4SRnVC",
    "outputId": "3c65063f-1668-444e-8364-11e856f1bc3d"
   },
   "execution_count": 19,
   "outputs": [
    {
     "output_type": "stream",
     "name": "stdout",
     "text": [
      "tensor([[[1., 0., 1., 1.],\n",
      "         [1., 0., 1., 1.],\n",
      "         [1., 0., 1., 1.],\n",
      "         [1., 0., 1., 1.]],\n",
      "\n",
      "        [[1., 0., 1., 1.],\n",
      "         [1., 0., 1., 1.],\n",
      "         [1., 0., 1., 1.],\n",
      "         [1., 0., 1., 1.]],\n",
      "\n",
      "        [[1., 0., 1., 1.],\n",
      "         [1., 0., 1., 1.],\n",
      "         [1., 0., 1., 1.],\n",
      "         [1., 0., 1., 1.]]]) torch.Size([3, 4, 4])\n"
     ]
    }
   ]
  },
  {
   "cell_type": "markdown",
   "metadata": {
    "id": "dYxp3AtaLzXk"
   },
   "source": [
    "**산술 연산(Arithmetic operations)**\n",
    "\n"
   ]
  },
  {
   "cell_type": "code",
   "execution_count": 42,
   "metadata": {
    "colab": {
     "base_uri": "https://localhost:8080/"
    },
    "id": "mQAXx0sALzXk",
    "outputId": "cf3679de-6e69-48d4-cbde-69c36dd8988f",
    "ExecuteTime": {
     "end_time": "2023-11-25T09:51:04.456169500Z",
     "start_time": "2023-11-25T09:51:04.442343100Z"
    }
   },
   "outputs": [
    {
     "name": "stdout",
     "output_type": "stream",
     "text": [
      "tensor([[1., 0., 1., 1.],\n",
      "        [1., 0., 1., 1.],\n",
      "        [1., 0., 1., 1.],\n",
      "        [1., 0., 1., 1.]])\n",
      "tensor([[1., 1., 1., 1.],\n",
      "        [0., 0., 0., 0.],\n",
      "        [1., 1., 1., 1.],\n",
      "        [1., 1., 1., 1.]])\n",
      "tensor([[3., 3., 3., 3.],\n",
      "        [3., 3., 3., 3.],\n",
      "        [3., 3., 3., 3.],\n",
      "        [3., 3., 3., 3.]])\n",
      "tensor([[3., 3., 3., 3.],\n",
      "        [3., 3., 3., 3.],\n",
      "        [3., 3., 3., 3.],\n",
      "        [3., 3., 3., 3.]])\n"
     ]
    },
    {
     "data": {
      "text/plain": "tensor([[1., 0., 1., 1.],\n        [1., 0., 1., 1.],\n        [1., 0., 1., 1.],\n        [1., 0., 1., 1.]])"
     },
     "execution_count": 42,
     "metadata": {},
     "output_type": "execute_result"
    }
   ],
   "source": [
    "# 두 텐서 간의 행렬 곱(matrix multiplication)을 계산합니다. y1, y2, y3은 모두 같은 값을 갖습니다.\n",
    "# ``tensor.T`` 는 텐서의 전치(transpose)를 반환합니다.\n",
    "print(tensor)\n",
    "print(tensor.T)\n",
    "\n",
    "y1 = tensor @ tensor.T\n",
    "y2 = tensor.matmul(tensor.T)\n",
    "\n",
    "y3 = torch.rand_like(y1)\n",
    "torch.matmul(tensor, tensor.T, out=y3)\n",
    "print(y3)\n",
    "\n",
    "# 요소별 곱(element-wise product)을 계산합니다. z1, z2, z3는 모두 같은 값을 갖습니다.\n",
    "z1 = tensor * tensor\n",
    "z2 = tensor.mul(tensor)\n",
    "\n",
    "z3 = torch.rand_like(tensor)\n",
    "torch.mul(tensor, tensor, out=z3)"
   ]
  },
  {
   "cell_type": "markdown",
   "metadata": {
    "id": "E02_zKIcLzXk"
   },
   "source": [
    "**단일-요소(single-element) 텐서** 텐서의 모든 값을 하나로 집계(aggregate)하여 요소가 하나인 텐서의 경우,\n",
    "``item()`` 을 사용하여 Python 숫자 값으로 변환할 수 있습니다:\n",
    "\n"
   ]
  },
  {
   "cell_type": "code",
   "execution_count": 43,
   "metadata": {
    "colab": {
     "base_uri": "https://localhost:8080/"
    },
    "id": "EJ8SiQiqLzXk",
    "outputId": "8fb3ff43-dc6d-422f-e772-d24398bf39ab",
    "ExecuteTime": {
     "end_time": "2023-11-25T09:51:15.814504100Z",
     "start_time": "2023-11-25T09:51:15.802301600Z"
    }
   },
   "outputs": [
    {
     "name": "stdout",
     "output_type": "stream",
     "text": [
      "tensor(12.)\n",
      "12.0 <class 'float'>\n"
     ]
    }
   ],
   "source": [
    "agg = tensor.sum()\n",
    "print(agg)\n",
    "agg_item = agg.item()\n",
    "print(agg_item, type(agg_item))"
   ]
  },
  {
   "cell_type": "markdown",
   "metadata": {
    "id": "7wY7RM-LLzXk"
   },
   "source": [
    "**바꿔치기(in-place) 연산**\n",
    "연산 결과를 피연산자(operand)에 저장하는 연산을 바꿔치기 연산이라고 부르며, ``_`` 접미사를 갖습니다.\n",
    "예를 들어: ``x.copy_(y)`` 나 ``x.t_()`` 는 ``x`` 를 변경합니다.\n",
    "\n"
   ]
  },
  {
   "cell_type": "code",
   "execution_count": 47,
   "metadata": {
    "colab": {
     "base_uri": "https://localhost:8080/"
    },
    "id": "dzG_tn_BLzXk",
    "outputId": "e14373a4-1d1f-4d8d-acc9-3ffc66a5d439",
    "ExecuteTime": {
     "end_time": "2023-11-25T09:51:36.066886300Z",
     "start_time": "2023-11-25T09:51:36.061039700Z"
    }
   },
   "outputs": [
    {
     "name": "stdout",
     "output_type": "stream",
     "text": [
      "tensor([[31., 30., 31., 31.],\n",
      "        [31., 30., 31., 31.],\n",
      "        [31., 30., 31., 31.],\n",
      "        [31., 30., 31., 31.]]) \n",
      "\n",
      "tensor([[41., 40., 41., 41.],\n",
      "        [41., 40., 41., 41.],\n",
      "        [41., 40., 41., 41.],\n",
      "        [41., 40., 41., 41.]])\n"
     ]
    }
   ],
   "source": [
    "print(f\"{tensor} \\n\")\n",
    "tensor.add_(5)\n",
    "tensor += 5\n",
    "print(tensor)"
   ]
  },
  {
   "cell_type": "markdown",
   "metadata": {
    "id": "kvCb4KyGLzXk"
   },
   "source": [
    "<div class=\"alert alert-info\"><h4>Note</h4><p>바꿔치기 연산은 메모리를 일부 절약하지만, 기록(history)이 즉시 삭제되어 도함수(derivative) 계산에 문제가 발생할 수 있습니다.\n",
    "     따라서, 사용을 권장하지 않습니다.</p></div>\n",
    "\n"
   ]
  },
  {
   "cell_type": "markdown",
   "metadata": {
    "id": "GCsE23uHLzXk"
   },
   "source": [
    "--------------\n",
    "\n",
    "\n"
   ]
  },
  {
   "cell_type": "markdown",
   "metadata": {
    "id": "fzrOGQKOLzXl"
   },
   "source": [
    "\n",
    "## NumPy 변환(Bridge)\n",
    "CPU 상의 텐서와 NumPy 배열은 메모리 공간을 공유하기 때문에, 하나를 변경하면 다른 하나도 변경됩니다.\n",
    "\n"
   ]
  },
  {
   "cell_type": "markdown",
   "metadata": {
    "id": "myPIlK37LzXl"
   },
   "source": [
    "### 텐서를 NumPy 배열로 변환하기\n",
    "\n"
   ]
  },
  {
   "cell_type": "code",
   "execution_count": 54,
   "metadata": {
    "colab": {
     "base_uri": "https://localhost:8080/"
    },
    "id": "94ru2FE6LzXl",
    "outputId": "55677477-4eab-49d8-d8e2-e11aecca86c6",
    "ExecuteTime": {
     "end_time": "2023-11-25T10:14:20.670791700Z",
     "start_time": "2023-11-25T10:14:20.655894700Z"
    }
   },
   "outputs": [
    {
     "name": "stdout",
     "output_type": "stream",
     "text": [
      "t: tensor([1., 1., 1., 1., 1.])\n",
      "n: [1. 1. 1. 1. 1.]\n"
     ]
    }
   ],
   "source": [
    "t = torch.ones(5)\n",
    "print(f\"t: {t}\")\n",
    "n = t.numpy()\n",
    "print(f\"n: {n}\")"
   ]
  },
  {
   "cell_type": "markdown",
   "metadata": {
    "id": "ZUotZRWGLzXl"
   },
   "source": [
    "텐서의 변경 사항이 NumPy 배열에 반영됩니다.\n",
    "\n"
   ]
  },
  {
   "cell_type": "code",
   "execution_count": 36,
   "metadata": {
    "colab": {
     "base_uri": "https://localhost:8080/"
    },
    "id": "BL08bZnULzXl",
    "outputId": "9fd8c329-d459-4dba-dba8-f75506309645"
   },
   "outputs": [
    {
     "output_type": "stream",
     "name": "stdout",
     "text": [
      "t: tensor([2., 2., 2., 2., 2.])\n",
      "n: [2. 2. 2. 2. 2.]\n"
     ]
    }
   ],
   "source": [
    "t.add_(1)\n",
    "print(f\"t: {t}\")\n",
    "print(f\"n: {n}\")"
   ]
  },
  {
   "cell_type": "markdown",
   "metadata": {
    "id": "76UowS2-LzXl"
   },
   "source": [
    "### NumPy 배열을 텐서로 변환하기\n",
    "\n"
   ]
  },
  {
   "cell_type": "code",
   "execution_count": 37,
   "metadata": {
    "id": "1-i9NJkWLzXm"
   },
   "outputs": [],
   "source": [
    "n = np.ones(5)\n",
    "t = torch.from_numpy(n)"
   ]
  },
  {
   "cell_type": "markdown",
   "metadata": {
    "id": "vA4N2spCLzXm"
   },
   "source": [
    "NumPy 배열의 변경 사항이 텐서에 반영됩니다.\n",
    "\n"
   ]
  },
  {
   "cell_type": "code",
   "execution_count": 38,
   "metadata": {
    "colab": {
     "base_uri": "https://localhost:8080/"
    },
    "id": "JPcYeczOLzXm",
    "outputId": "49620fb3-3f5c-4785-bf50-df49f10e5f86"
   },
   "outputs": [
    {
     "output_type": "stream",
     "name": "stdout",
     "text": [
      "t: tensor([2., 2., 2., 2., 2.], dtype=torch.float64)\n",
      "n: [2. 2. 2. 2. 2.]\n"
     ]
    }
   ],
   "source": [
    "np.add(n, 1, out=n)\n",
    "print(f\"t: {t}\")\n",
    "print(f\"n: {n}\")"
   ]
  }
 ],
 "metadata": {
  "kernelspec": {
   "name": "python3",
   "language": "python",
   "display_name": "Python 3 (ipykernel)"
  },
  "language_info": {
   "codemirror_mode": {
    "name": "ipython",
    "version": 3
   },
   "file_extension": ".py",
   "mimetype": "text/x-python",
   "name": "python",
   "nbconvert_exporter": "python",
   "pygments_lexer": "ipython3",
   "version": "3.9.16"
  },
  "colab": {
   "provenance": [],
   "gpuType": "T4"
  },
  "accelerator": "GPU"
 },
 "nbformat": 4,
 "nbformat_minor": 0
}
