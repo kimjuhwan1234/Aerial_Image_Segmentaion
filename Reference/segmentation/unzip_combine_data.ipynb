{
 "cells": [
  {
   "cell_type": "code",
   "execution_count": 7,
   "metadata": {},
   "outputs": [
    {
     "name": "stdout",
     "output_type": "stream",
     "text": [
      "Defaulting to user installation because normal site-packages is not writeable\n",
      "Requirement already satisfied: patool in ./.local/lib/python3.10/site-packages (1.12)\n",
      "\u001b[33mDEPRECATION: distro-info 1.1build1 has a non-standard version number. pip 23.3 will enforce this behaviour change. A possible replacement is to upgrade to a newer version of distro-info or contact the author to suggest that they release a version with a conforming version number. Discussion can be found at https://github.com/pypa/pip/issues/12063\u001b[0m\u001b[33m\n",
      "\u001b[0m\u001b[33mDEPRECATION: python-debian 0.1.43ubuntu1 has a non-standard version number. pip 23.3 will enforce this behaviour change. A possible replacement is to upgrade to a newer version of python-debian or contact the author to suggest that they release a version with a conforming version number. Discussion can be found at https://github.com/pypa/pip/issues/12063\u001b[0m\u001b[33m\n",
      "\u001b[0mNote: you may need to restart the kernel to use updated packages.\n"
     ]
    }
   ],
   "source": [
    "pip install patool\n"
   ]
  },
  {
   "cell_type": "code",
   "execution_count": 1,
   "metadata": {},
   "outputs": [],
   "source": [
    "from pathlib import Path\n",
    "import zipfile\n",
    "import os\n",
    "import shutil\n",
    "import pyzipper\n",
    "\n",
    "\n",
    "# 한글 파일명을 올바르게 인코딩\n",
    "def correct_encoding(filename, encoding='EUC-KR'):\n",
    "    try:\n",
    "        return filename.encode('cp437').decode(encoding, 'ignore')\n",
    "    except UnicodeEncodeError:\n",
    "        return filename\n",
    "\n",
    "# 디렉토리 내의 파일과 폴더 이름을 올바르게 한글 인코딩으로 변경\n",
    "def rename_files_and_folders_in_directory(directory: Path):\n",
    "    for dirpath, dirnames, filenames in os.walk(directory, topdown=False):\n",
    "        for filename in filenames:\n",
    "            correct_filename = correct_encoding(filename)\n",
    "            if filename != correct_filename:\n",
    "                shutil.move(os.path.join(dirpath, filename), os.path.join(dirpath, correct_filename))\n",
    "        for dirname in dirnames:\n",
    "            correct_dirname = correct_encoding(dirname)\n",
    "            if dirname != correct_dirname:\n",
    "                shutil.move(os.path.join(dirpath, dirname), os.path.join(dirpath, correct_dirname))\n",
    "\n",
    "# 압축 풀기, 파일명 변경, 파일 이동\n",
    "def unzip_rename_and_move_files(target: str, work_path: str = \"/mnt/disks/data1/aihub/Training\", remove_current_dir: bool = False):\n",
    "    work_path = Path(work_path)\n",
    "    label_files = sorted([file for file in os.listdir(work_path) if file.startswith(\"[라벨]\")])\n",
    "    source_files = sorted([file for file in os.listdir(work_path) if file.startswith(\"[원천]\")])\n",
    "    \n",
    "    target_path = work_path / target\n",
    "    \n",
    "    if remove_current_dir and target_path.exists(): # Remove current directory if exists\n",
    "        shutil.rmtree(target_path)\n",
    "    elif target_path.exists(): \n",
    "        print(f\"Directory {target_path} already exists.\")\n",
    "        return\n",
    "        \n",
    "    target_path.mkdir(exist_ok=True)\n",
    "    \n",
    "    # Unzip label files\n",
    "    for label in label_files:\n",
    "        if label.startswith(f\"[라벨]{target}\"):\n",
    "            with pyzipper.AESZipFile(work_path / label, 'r') as label_zip:\n",
    "                label_zip.extractall(target_path)\n",
    "    \n",
    "    # Unzip source files\n",
    "    for source in source_files:\n",
    "        if source.startswith(f\"[원천]{target}\"):\n",
    "            with pyzipper.AESZipFile(work_path / source, 'r') as source_zip:\n",
    "                source_zip.extractall(target_path)\n",
    "    \n",
    "    # Rename files and folders\n",
    "    rename_files_and_folders_in_directory(target_path)\n",
    "\n",
    "    # Initialize temp directory to remove\n",
    "    temp_dirs = os.listdir(target_path)\n",
    "\n",
    "    # Move files to new location\n",
    "    dst_path = Path(f\"/mnt/disks/data1/aihub/Training/{target}\")\n",
    "    for file in target_path.glob(\"**/*\"):\n",
    "        if file.is_file():\n",
    "            relative_path = \"/\".join(file.relative_to(target_path).parts[1:])\n",
    "            new_path = dst_path / relative_path\n",
    "            new_path.parent.mkdir(parents=True, exist_ok=True) \n",
    "            shutil.move(str(file), str(new_path))\n",
    "            \n",
    "    # Remove temp directory\n",
    "    for temps in temp_dirs:\n",
    "        shutil.rmtree(target_path / temps)"
   ]
  },
  {
   "cell_type": "code",
   "execution_count": 3,
   "metadata": {},
   "outputs": [],
   "source": [
    "target = \"서해_대천항_2구역_BOX\" # 정리할 데이터셋 이름 (e.g. [라벨]서해_군산항_2구역_BOX.zip, [원천]서해_군산항_2구역_BOX_0 ~ 3.zip 파일이 있다면 \"서해_군산항_2구역_BOX\")\n",
    "work_path = \"/mnt/disks/data1/aihub/Training\" # 압축 파일이 있는 경로\n",
    "unzip_rename_and_move_files(target, work_path, remove_current_dir=True)"
   ]
  },
  {
   "cell_type": "code",
   "execution_count": null,
   "metadata": {},
   "outputs": [],
   "source": []
  }
 ],
 "metadata": {
  "kernelspec": {
   "display_name": "pius311",
   "language": "python",
   "name": "python3"
  },
  "language_info": {
   "codemirror_mode": {
    "name": "ipython",
    "version": 3
   },
   "file_extension": ".py",
   "mimetype": "text/x-python",
   "name": "python",
   "nbconvert_exporter": "python",
   "pygments_lexer": "ipython3",
   "version": "3.10.6"
  },
  "orig_nbformat": 4
 },
 "nbformat": 4,
 "nbformat_minor": 2
}
