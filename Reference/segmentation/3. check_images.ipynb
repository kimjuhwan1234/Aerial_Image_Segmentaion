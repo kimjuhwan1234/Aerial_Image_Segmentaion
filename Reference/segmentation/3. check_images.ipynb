{
 "cells": [
  {
   "cell_type": "code",
   "execution_count": 1,
   "metadata": {},
   "outputs": [],
   "source": [
    "from IPython.display import display\n",
    "from ipywidgets import widgets, interact\n",
    "from pathlib import Path\n",
    "from xml.etree import ElementTree as ET\n",
    "from PIL import Image, ImageDraw\n",
    "import cv2\n",
    "\n",
    "class ImageInteractor:\n",
    "    def __init__(self, dataset_path: str, target: str, category: str = None):\n",
    "        self.dataset_path = Path(dataset_path)\n",
    "        self.target = target\n",
    "        self.category = category\n",
    "        self.imgs = self.get_images()\n",
    "    \n",
    "    def get_images(self):\n",
    "        target_path = self.dataset_path / self.target\n",
    "        imgs = []\n",
    "        if not self.category:\n",
    "            imgs = [image for image in target_path.glob(\"**/*\") if image.suffix in [\".jpg\"]]\n",
    "        else:\n",
    "            imgs = self.get_images_by_category(target_path)\n",
    "        return sorted(imgs)\n",
    "    \n",
    "    def get_images_by_category(self, target_path):\n",
    "        imgs = []\n",
    "        for file in target_path.glob(\"**/*\"):\n",
    "            if file.suffix in [\".xml\"]:\n",
    "                tree = ET.parse(file)\n",
    "                root = tree.getroot()\n",
    "                for obj in root.findall(\"object\"):\n",
    "                    if obj.find('property/category').text == self.category:\n",
    "                        img = file.with_suffix(\".jpg\")\n",
    "                        if img.exists():\n",
    "                            imgs.append(img)\n",
    "        return imgs\n",
    "\n",
    "    @staticmethod\n",
    "    def draw_bbox(img, bbox, color=(255, 0, 0), thickness=3):\n",
    "        draw = ImageDraw.Draw(img)\n",
    "        draw.rectangle(bbox, outline=color, width=thickness)\n",
    "        return img\n",
    "    \n",
    "    def print_bounding_boxes(self, xml, img):\n",
    "        tree = ET.parse(xml)\n",
    "        root = tree.getroot()\n",
    "        for obj in root.findall(\"object\"):\n",
    "            print(\"category:\", obj.find('property/category').text)\n",
    "            print(\"bbox:\", obj.find('bndbox/xmin').text, obj.find('bndbox/ymin').text, obj.find('bndbox/xmax').text, obj.find('bndbox/ymax').text)\n",
    "            print(\"width:\", int(obj.find('bndbox/xmax').text) - int(obj.find('bndbox/xmin').text), \"height:\", int(obj.find('bndbox/ymax').text) - int(obj.find('bndbox/ymin').text))\n",
    "            print(\"\")\n",
    "            img = self.draw_bbox(img, (int(obj.find('bndbox/xmin').text), int(obj.find('bndbox/ymin').text), int(obj.find('bndbox/xmax').text), int(obj.find('bndbox/ymax').text)))\n",
    "        return img\n",
    "\n",
    "    def display_image(self, idx: int):\n",
    "        img = Image.open(self.imgs[idx])\n",
    "        display(img)\n",
    "    \n",
    "        xml = self.imgs[idx].with_suffix(\".xml\")\n",
    "        if xml.exists():\n",
    "            img = self.print_bounding_boxes(xml, img)\n",
    "        \n",
    "        display(img)"
   ]
  },
  {
   "cell_type": "code",
   "execution_count": 2,
   "metadata": {},
   "outputs": [
    {
     "data": {
      "application/vnd.jupyter.widget-view+json": {
       "model_id": "fc14494aec124b1681c3671b35c16f56",
       "version_major": 2,
       "version_minor": 0
      },
      "text/plain": [
       "interactive(children=(IntSlider(value=0, description='idx', max=21782), Output()), _dom_classes=('widget-inter…"
      ]
     },
     "metadata": {},
     "output_type": "display_data"
    }
   ],
   "source": [
    "### 수정 가능한 부분 ###\n",
    "dataset_path = \"/mnt/disks/data1/aihub/Training\"\n",
    "target = \"Modified_Data\"\n",
    "category = \"선박\" # 확인 하고 싶은 카테고리 입력 (선박, 부표, 어망부표, 기타부유물, 등대)\n",
    "### 수정 가능한 부분 ###\n",
    "\n",
    "image_interactor = ImageInteractor(dataset_path, target, category)\n",
    "\n",
    "# display images using slider\n",
    "@interact(idx=widgets.IntSlider(min=0, max=len(image_interactor.imgs)-1, step=1, value=0))\n",
    "def display_image(idx):\n",
    "    image_interactor.display_image(idx)"
   ]
  },
  {
   "cell_type": "code",
   "execution_count": 27,
   "metadata": {},
   "outputs": [
    {
     "data": {
      "application/vnd.jupyter.widget-view+json": {
       "model_id": "031610b0f70a40e2abb78ebc3e5527b5",
       "version_major": 2,
       "version_minor": 0
      },
      "text/plain": [
       "interactive(children=(IntSlider(value=0, description='idx', max=1486), Output()), _dom_classes=('widget-intera…"
      ]
     },
     "metadata": {},
     "output_type": "display_data"
    }
   ],
   "source": []
  }
 ],
 "metadata": {
  "kernelspec": {
   "display_name": "pius311",
   "language": "python",
   "name": "python3"
  },
  "language_info": {
   "codemirror_mode": {
    "name": "ipython",
    "version": 3
   },
   "file_extension": ".py",
   "mimetype": "text/x-python",
   "name": "python",
   "nbconvert_exporter": "python",
   "pygments_lexer": "ipython3",
   "version": "3.10.6"
  },
  "orig_nbformat": 4
 },
 "nbformat": 4,
 "nbformat_minor": 2
}
