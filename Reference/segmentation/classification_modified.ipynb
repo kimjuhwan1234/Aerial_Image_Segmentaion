{
 "cells": [
  {
   "attachments": {},
   "cell_type": "markdown",
   "metadata": {},
   "source": [
    "## check train files"
   ]
  },
  {
   "cell_type": "code",
   "execution_count": 20,
   "metadata": {},
   "outputs": [
    {
     "name": "stdout",
     "output_type": "stream",
     "text": [
      "Defaulting to user installation because normal site-packages is not writeable\n",
      "Requirement already satisfied: ultralytics in /home/aihub_juhoon/.local/lib/python3.10/site-packages (8.0.141)\n",
      "Requirement already satisfied: matplotlib>=3.2.2 in /home/aihub_juhoon/.local/lib/python3.10/site-packages (from ultralytics) (3.7.2)\n",
      "Requirement already satisfied: opencv-python>=4.6.0 in /home/aihub_juhoon/.local/lib/python3.10/site-packages (from ultralytics) (4.8.0.74)\n",
      "Requirement already satisfied: Pillow>=7.1.2 in /usr/lib/python3/dist-packages (from ultralytics) (9.0.1)\n",
      "Requirement already satisfied: PyYAML>=5.3.1 in /usr/lib/python3/dist-packages (from ultralytics) (5.4.1)\n",
      "Requirement already satisfied: requests>=2.23.0 in /usr/lib/python3/dist-packages (from ultralytics) (2.25.1)\n",
      "Requirement already satisfied: scipy>=1.4.1 in /home/aihub_juhoon/.local/lib/python3.10/site-packages (from ultralytics) (1.11.1)\n",
      "Requirement already satisfied: torch>=1.7.0 in /home/aihub_juhoon/.local/lib/python3.10/site-packages (from ultralytics) (2.0.1)\n",
      "Requirement already satisfied: torchvision>=0.8.1 in /home/aihub_juhoon/.local/lib/python3.10/site-packages (from ultralytics) (0.15.2)\n",
      "Requirement already satisfied: tqdm>=4.64.0 in /home/aihub_juhoon/.local/lib/python3.10/site-packages (from ultralytics) (4.65.0)\n",
      "Requirement already satisfied: pandas>=1.1.4 in /home/aihub_juhoon/.local/lib/python3.10/site-packages (from ultralytics) (2.0.3)\n",
      "Requirement already satisfied: seaborn>=0.11.0 in /home/aihub_juhoon/.local/lib/python3.10/site-packages (from ultralytics) (0.12.2)\n",
      "Requirement already satisfied: psutil in /usr/lib/python3/dist-packages (from ultralytics) (5.9.0)\n",
      "Requirement already satisfied: contourpy>=1.0.1 in /home/aihub_juhoon/.local/lib/python3.10/site-packages (from matplotlib>=3.2.2->ultralytics) (1.1.0)\n",
      "Requirement already satisfied: cycler>=0.10 in /home/aihub_juhoon/.local/lib/python3.10/site-packages (from matplotlib>=3.2.2->ultralytics) (0.10.0)\n",
      "Requirement already satisfied: fonttools>=4.22.0 in /home/aihub_juhoon/.local/lib/python3.10/site-packages (from matplotlib>=3.2.2->ultralytics) (4.41.0)\n",
      "Requirement already satisfied: kiwisolver>=1.0.1 in /home/aihub_juhoon/.local/lib/python3.10/site-packages (from matplotlib>=3.2.2->ultralytics) (1.4.4)\n",
      "Requirement already satisfied: numpy>=1.20 in /home/aihub_juhoon/.local/lib/python3.10/site-packages (from matplotlib>=3.2.2->ultralytics) (1.25.1)\n",
      "Requirement already satisfied: packaging>=20.0 in /usr/local/lib/python3.10/dist-packages (from matplotlib>=3.2.2->ultralytics) (23.0)\n",
      "Requirement already satisfied: pyparsing<3.1,>=2.3.1 in /usr/lib/python3/dist-packages (from matplotlib>=3.2.2->ultralytics) (2.4.7)\n",
      "Requirement already satisfied: python-dateutil>=2.7 in /usr/local/lib/python3.10/dist-packages (from matplotlib>=3.2.2->ultralytics) (2.8.2)\n",
      "Requirement already satisfied: pytz>=2020.1 in /usr/lib/python3/dist-packages (from pandas>=1.1.4->ultralytics) (2022.1)\n",
      "Requirement already satisfied: tzdata>=2022.1 in /home/aihub_juhoon/.local/lib/python3.10/site-packages (from pandas>=1.1.4->ultralytics) (2023.3)\n",
      "Requirement already satisfied: filelock in /home/aihub_juhoon/.local/lib/python3.10/site-packages (from torch>=1.7.0->ultralytics) (3.12.2)\n",
      "Requirement already satisfied: typing-extensions in /home/aihub_juhoon/.local/lib/python3.10/site-packages (from torch>=1.7.0->ultralytics) (4.7.1)\n",
      "Requirement already satisfied: sympy in /home/aihub_juhoon/.local/lib/python3.10/site-packages (from torch>=1.7.0->ultralytics) (1.12)\n",
      "Requirement already satisfied: networkx in /home/aihub_juhoon/.local/lib/python3.10/site-packages (from torch>=1.7.0->ultralytics) (3.1)\n",
      "Requirement already satisfied: jinja2 in /usr/lib/python3/dist-packages (from torch>=1.7.0->ultralytics) (3.0.3)\n",
      "Requirement already satisfied: nvidia-cuda-nvrtc-cu11==11.7.99 in /home/aihub_juhoon/.local/lib/python3.10/site-packages (from torch>=1.7.0->ultralytics) (11.7.99)\n",
      "Requirement already satisfied: nvidia-cuda-runtime-cu11==11.7.99 in /home/aihub_juhoon/.local/lib/python3.10/site-packages (from torch>=1.7.0->ultralytics) (11.7.99)\n",
      "Requirement already satisfied: nvidia-cuda-cupti-cu11==11.7.101 in /home/aihub_juhoon/.local/lib/python3.10/site-packages (from torch>=1.7.0->ultralytics) (11.7.101)\n",
      "Requirement already satisfied: nvidia-cudnn-cu11==8.5.0.96 in /home/aihub_juhoon/.local/lib/python3.10/site-packages (from torch>=1.7.0->ultralytics) (8.5.0.96)\n",
      "Requirement already satisfied: nvidia-cublas-cu11==11.10.3.66 in /home/aihub_juhoon/.local/lib/python3.10/site-packages (from torch>=1.7.0->ultralytics) (11.10.3.66)\n",
      "Requirement already satisfied: nvidia-cufft-cu11==10.9.0.58 in /home/aihub_juhoon/.local/lib/python3.10/site-packages (from torch>=1.7.0->ultralytics) (10.9.0.58)\n",
      "Requirement already satisfied: nvidia-curand-cu11==10.2.10.91 in /home/aihub_juhoon/.local/lib/python3.10/site-packages (from torch>=1.7.0->ultralytics) (10.2.10.91)\n",
      "Requirement already satisfied: nvidia-cusolver-cu11==11.4.0.1 in /home/aihub_juhoon/.local/lib/python3.10/site-packages (from torch>=1.7.0->ultralytics) (11.4.0.1)\n",
      "Requirement already satisfied: nvidia-cusparse-cu11==11.7.4.91 in /home/aihub_juhoon/.local/lib/python3.10/site-packages (from torch>=1.7.0->ultralytics) (11.7.4.91)\n",
      "Requirement already satisfied: nvidia-nccl-cu11==2.14.3 in /home/aihub_juhoon/.local/lib/python3.10/site-packages (from torch>=1.7.0->ultralytics) (2.14.3)\n",
      "Requirement already satisfied: nvidia-nvtx-cu11==11.7.91 in /home/aihub_juhoon/.local/lib/python3.10/site-packages (from torch>=1.7.0->ultralytics) (11.7.91)\n",
      "Requirement already satisfied: triton==2.0.0 in /home/aihub_juhoon/.local/lib/python3.10/site-packages (from torch>=1.7.0->ultralytics) (2.0.0)\n",
      "Requirement already satisfied: setuptools in /usr/lib/python3/dist-packages (from nvidia-cublas-cu11==11.10.3.66->torch>=1.7.0->ultralytics) (59.6.0)\n",
      "Requirement already satisfied: wheel in /usr/lib/python3/dist-packages (from nvidia-cublas-cu11==11.10.3.66->torch>=1.7.0->ultralytics) (0.37.1)\n",
      "Requirement already satisfied: cmake in /home/aihub_juhoon/.local/lib/python3.10/site-packages (from triton==2.0.0->torch>=1.7.0->ultralytics) (3.26.4)\n",
      "Requirement already satisfied: lit in /home/aihub_juhoon/.local/lib/python3.10/site-packages (from triton==2.0.0->torch>=1.7.0->ultralytics) (16.0.6)\n",
      "Requirement already satisfied: six in /usr/lib/python3/dist-packages (from cycler>=0.10->matplotlib>=3.2.2->ultralytics) (1.16.0)\n",
      "Requirement already satisfied: mpmath>=0.19 in /home/aihub_juhoon/.local/lib/python3.10/site-packages (from sympy->torch>=1.7.0->ultralytics) (1.3.0)\n",
      "\u001b[33mDEPRECATION: distro-info 1.1build1 has a non-standard version number. pip 23.3 will enforce this behaviour change. A possible replacement is to upgrade to a newer version of distro-info or contact the author to suggest that they release a version with a conforming version number. Discussion can be found at https://github.com/pypa/pip/issues/12063\u001b[0m\u001b[33m\n",
      "\u001b[0m\u001b[33mDEPRECATION: python-debian 0.1.43ubuntu1 has a non-standard version number. pip 23.3 will enforce this behaviour change. A possible replacement is to upgrade to a newer version of python-debian or contact the author to suggest that they release a version with a conforming version number. Discussion can be found at https://github.com/pypa/pip/issues/12063\u001b[0m\u001b[33m\n",
      "\u001b[0mNote: you may need to restart the kernel to use updated packages.\n"
     ]
    }
   ],
   "source": [
    "pip install -U ultralytics"
   ]
  },
  {
   "cell_type": "code",
   "execution_count": 21,
   "metadata": {},
   "outputs": [
    {
     "name": "stdout",
     "output_type": "stream",
     "text": [
      "/mnt/disks/data1/aihub/Training\n",
      "Cloning into 'ultralytics'...\n",
      "remote: Enumerating objects: 13102, done.\u001b[K\n",
      "remote: Counting objects: 100% (471/471), done.\u001b[K\n",
      "remote: Compressing objects: 100% (377/377), done.\u001b[K\n",
      "remote: Total 13102 (delta 150), reused 375 (delta 90), pack-reused 12631\u001b[K\n",
      "Receiving objects: 100% (13102/13102), 7.85 MiB | 5.87 MiB/s, done.\n",
      "Resolving deltas: 100% (8660/8660), done.\n"
     ]
    }
   ],
   "source": [
    "%cd /mnt/disks/data1/aihub/Training\n",
    "!git clone https://github.com/ultralytics/ultralytics"
   ]
  },
  {
   "cell_type": "code",
   "execution_count": 2,
   "metadata": {},
   "outputs": [
    {
     "name": "stdout",
     "output_type": "stream",
     "text": [
      "/mnt/disks/data1/aihub/Training/ultralytics\n",
      "Defaulting to user installation because normal site-packages is not writeable\n",
      "Requirement already satisfied: matplotlib>=3.2.2 in /home/aihub_juhoon/.local/lib/python3.10/site-packages (from -r requirements.txt (line 5)) (3.7.2)\n",
      "Requirement already satisfied: opencv-python>=4.6.0 in /home/aihub_juhoon/.local/lib/python3.10/site-packages (from -r requirements.txt (line 6)) (4.8.0.74)\n",
      "Requirement already satisfied: Pillow>=7.1.2 in /usr/lib/python3/dist-packages (from -r requirements.txt (line 7)) (9.0.1)\n",
      "Requirement already satisfied: PyYAML>=5.3.1 in /usr/lib/python3/dist-packages (from -r requirements.txt (line 8)) (5.4.1)\n",
      "Requirement already satisfied: requests>=2.23.0 in /usr/lib/python3/dist-packages (from -r requirements.txt (line 9)) (2.25.1)\n",
      "Requirement already satisfied: scipy>=1.4.1 in /home/aihub_juhoon/.local/lib/python3.10/site-packages (from -r requirements.txt (line 10)) (1.11.1)\n",
      "Requirement already satisfied: torch>=1.7.0 in /home/aihub_juhoon/.local/lib/python3.10/site-packages (from -r requirements.txt (line 11)) (2.0.1)\n",
      "Requirement already satisfied: torchvision>=0.8.1 in /home/aihub_juhoon/.local/lib/python3.10/site-packages (from -r requirements.txt (line 12)) (0.15.2)\n",
      "Requirement already satisfied: tqdm>=4.64.0 in /home/aihub_juhoon/.local/lib/python3.10/site-packages (from -r requirements.txt (line 13)) (4.65.0)\n",
      "Requirement already satisfied: pandas>=1.1.4 in /home/aihub_juhoon/.local/lib/python3.10/site-packages (from -r requirements.txt (line 22)) (2.0.3)\n",
      "Requirement already satisfied: seaborn>=0.11.0 in /home/aihub_juhoon/.local/lib/python3.10/site-packages (from -r requirements.txt (line 23)) (0.12.2)\n",
      "Requirement already satisfied: psutil in /usr/lib/python3/dist-packages (from -r requirements.txt (line 38)) (5.9.0)\n",
      "Requirement already satisfied: contourpy>=1.0.1 in /home/aihub_juhoon/.local/lib/python3.10/site-packages (from matplotlib>=3.2.2->-r requirements.txt (line 5)) (1.1.0)\n",
      "Requirement already satisfied: cycler>=0.10 in /home/aihub_juhoon/.local/lib/python3.10/site-packages (from matplotlib>=3.2.2->-r requirements.txt (line 5)) (0.10.0)\n",
      "Requirement already satisfied: fonttools>=4.22.0 in /home/aihub_juhoon/.local/lib/python3.10/site-packages (from matplotlib>=3.2.2->-r requirements.txt (line 5)) (4.41.0)\n",
      "Requirement already satisfied: kiwisolver>=1.0.1 in /home/aihub_juhoon/.local/lib/python3.10/site-packages (from matplotlib>=3.2.2->-r requirements.txt (line 5)) (1.4.4)\n",
      "Requirement already satisfied: numpy>=1.20 in /home/aihub_juhoon/.local/lib/python3.10/site-packages (from matplotlib>=3.2.2->-r requirements.txt (line 5)) (1.25.1)\n",
      "Requirement already satisfied: packaging>=20.0 in /usr/local/lib/python3.10/dist-packages (from matplotlib>=3.2.2->-r requirements.txt (line 5)) (23.0)\n",
      "Requirement already satisfied: pyparsing<3.1,>=2.3.1 in /usr/lib/python3/dist-packages (from matplotlib>=3.2.2->-r requirements.txt (line 5)) (2.4.7)\n",
      "Requirement already satisfied: python-dateutil>=2.7 in /usr/local/lib/python3.10/dist-packages (from matplotlib>=3.2.2->-r requirements.txt (line 5)) (2.8.2)\n",
      "Requirement already satisfied: filelock in /home/aihub_juhoon/.local/lib/python3.10/site-packages (from torch>=1.7.0->-r requirements.txt (line 11)) (3.12.2)\n",
      "Requirement already satisfied: typing-extensions in /home/aihub_juhoon/.local/lib/python3.10/site-packages (from torch>=1.7.0->-r requirements.txt (line 11)) (4.7.1)\n",
      "Requirement already satisfied: sympy in /home/aihub_juhoon/.local/lib/python3.10/site-packages (from torch>=1.7.0->-r requirements.txt (line 11)) (1.12)\n",
      "Requirement already satisfied: networkx in /home/aihub_juhoon/.local/lib/python3.10/site-packages (from torch>=1.7.0->-r requirements.txt (line 11)) (3.1)\n",
      "Requirement already satisfied: jinja2 in /usr/lib/python3/dist-packages (from torch>=1.7.0->-r requirements.txt (line 11)) (3.0.3)\n",
      "Requirement already satisfied: nvidia-cuda-nvrtc-cu11==11.7.99 in /home/aihub_juhoon/.local/lib/python3.10/site-packages (from torch>=1.7.0->-r requirements.txt (line 11)) (11.7.99)\n",
      "Requirement already satisfied: nvidia-cuda-runtime-cu11==11.7.99 in /home/aihub_juhoon/.local/lib/python3.10/site-packages (from torch>=1.7.0->-r requirements.txt (line 11)) (11.7.99)\n",
      "Requirement already satisfied: nvidia-cuda-cupti-cu11==11.7.101 in /home/aihub_juhoon/.local/lib/python3.10/site-packages (from torch>=1.7.0->-r requirements.txt (line 11)) (11.7.101)\n",
      "Requirement already satisfied: nvidia-cudnn-cu11==8.5.0.96 in /home/aihub_juhoon/.local/lib/python3.10/site-packages (from torch>=1.7.0->-r requirements.txt (line 11)) (8.5.0.96)\n",
      "Requirement already satisfied: nvidia-cublas-cu11==11.10.3.66 in /home/aihub_juhoon/.local/lib/python3.10/site-packages (from torch>=1.7.0->-r requirements.txt (line 11)) (11.10.3.66)\n",
      "Requirement already satisfied: nvidia-cufft-cu11==10.9.0.58 in /home/aihub_juhoon/.local/lib/python3.10/site-packages (from torch>=1.7.0->-r requirements.txt (line 11)) (10.9.0.58)\n",
      "Requirement already satisfied: nvidia-curand-cu11==10.2.10.91 in /home/aihub_juhoon/.local/lib/python3.10/site-packages (from torch>=1.7.0->-r requirements.txt (line 11)) (10.2.10.91)\n",
      "Requirement already satisfied: nvidia-cusolver-cu11==11.4.0.1 in /home/aihub_juhoon/.local/lib/python3.10/site-packages (from torch>=1.7.0->-r requirements.txt (line 11)) (11.4.0.1)\n",
      "Requirement already satisfied: nvidia-cusparse-cu11==11.7.4.91 in /home/aihub_juhoon/.local/lib/python3.10/site-packages (from torch>=1.7.0->-r requirements.txt (line 11)) (11.7.4.91)\n",
      "Requirement already satisfied: nvidia-nccl-cu11==2.14.3 in /home/aihub_juhoon/.local/lib/python3.10/site-packages (from torch>=1.7.0->-r requirements.txt (line 11)) (2.14.3)\n",
      "Requirement already satisfied: nvidia-nvtx-cu11==11.7.91 in /home/aihub_juhoon/.local/lib/python3.10/site-packages (from torch>=1.7.0->-r requirements.txt (line 11)) (11.7.91)\n",
      "Requirement already satisfied: triton==2.0.0 in /home/aihub_juhoon/.local/lib/python3.10/site-packages (from torch>=1.7.0->-r requirements.txt (line 11)) (2.0.0)\n",
      "Requirement already satisfied: setuptools in /usr/lib/python3/dist-packages (from nvidia-cublas-cu11==11.10.3.66->torch>=1.7.0->-r requirements.txt (line 11)) (59.6.0)\n",
      "Requirement already satisfied: wheel in /usr/lib/python3/dist-packages (from nvidia-cublas-cu11==11.10.3.66->torch>=1.7.0->-r requirements.txt (line 11)) (0.37.1)\n",
      "Requirement already satisfied: cmake in /home/aihub_juhoon/.local/lib/python3.10/site-packages (from triton==2.0.0->torch>=1.7.0->-r requirements.txt (line 11)) (3.26.4)\n",
      "Requirement already satisfied: lit in /home/aihub_juhoon/.local/lib/python3.10/site-packages (from triton==2.0.0->torch>=1.7.0->-r requirements.txt (line 11)) (16.0.6)\n",
      "Requirement already satisfied: pytz>=2020.1 in /usr/lib/python3/dist-packages (from pandas>=1.1.4->-r requirements.txt (line 22)) (2022.1)\n",
      "Requirement already satisfied: tzdata>=2022.1 in /home/aihub_juhoon/.local/lib/python3.10/site-packages (from pandas>=1.1.4->-r requirements.txt (line 22)) (2023.3)\n",
      "Requirement already satisfied: six in /usr/lib/python3/dist-packages (from cycler>=0.10->matplotlib>=3.2.2->-r requirements.txt (line 5)) (1.16.0)\n",
      "Requirement already satisfied: mpmath>=0.19 in /home/aihub_juhoon/.local/lib/python3.10/site-packages (from sympy->torch>=1.7.0->-r requirements.txt (line 11)) (1.3.0)\n",
      "\u001b[33mDEPRECATION: distro-info 1.1build1 has a non-standard version number. pip 23.3 will enforce this behaviour change. A possible replacement is to upgrade to a newer version of distro-info or contact the author to suggest that they release a version with a conforming version number. Discussion can be found at https://github.com/pypa/pip/issues/12063\u001b[0m\u001b[33m\n",
      "\u001b[0m\n",
      "\u001b[1m[\u001b[0m\u001b[34;49mnotice\u001b[0m\u001b[1;39;49m]\u001b[0m\u001b[39;49m A new release of pip is available: \u001b[0m\u001b[31;49m23.2\u001b[0m\u001b[39;49m -> \u001b[0m\u001b[32;49m23.2.1\u001b[0m\n",
      "\u001b[1m[\u001b[0m\u001b[34;49mnotice\u001b[0m\u001b[1;39;49m]\u001b[0m\u001b[39;49m To update, run: \u001b[0m\u001b[32;49mpip install --upgrade pip\u001b[0m\n"
     ]
    }
   ],
   "source": [
    "%cd /mnt/disks/data1/aihub/Training/ultralytics\n",
    "!pip install -r requirements.txt"
   ]
  },
  {
   "cell_type": "code",
   "execution_count": 3,
   "metadata": {},
   "outputs": [
    {
     "name": "stdout",
     "output_type": "stream",
     "text": [
      "Defaulting to user installation because normal site-packages is not writeable\n",
      "Requirement already satisfied: PyYAML in /usr/lib/python3/dist-packages (5.4.1)\n",
      "\u001b[33mDEPRECATION: distro-info 1.1build1 has a non-standard version number. pip 23.3 will enforce this behaviour change. A possible replacement is to upgrade to a newer version of distro-info or contact the author to suggest that they release a version with a conforming version number. Discussion can be found at https://github.com/pypa/pip/issues/12063\u001b[0m\u001b[33m\n",
      "\u001b[0m\n",
      "\u001b[1m[\u001b[0m\u001b[34;49mnotice\u001b[0m\u001b[1;39;49m]\u001b[0m\u001b[39;49m A new release of pip is available: \u001b[0m\u001b[31;49m23.2\u001b[0m\u001b[39;49m -> \u001b[0m\u001b[32;49m23.2.1\u001b[0m\n",
      "\u001b[1m[\u001b[0m\u001b[34;49mnotice\u001b[0m\u001b[1;39;49m]\u001b[0m\u001b[39;49m To update, run: \u001b[0m\u001b[32;49mpip install --upgrade pip\u001b[0m\n"
     ]
    }
   ],
   "source": [
    "!pip install PyYAML"
   ]
  },
  {
   "cell_type": "code",
   "execution_count": 1,
   "metadata": {},
   "outputs": [
    {
     "name": "stderr",
     "output_type": "stream",
     "text": [
      "/usr/lib/python3/dist-packages/requests/__init__.py:87: RequestsDependencyWarning: urllib3 (2.0.3) or chardet (4.0.0) doesn't match a supported version!\n",
      "  warnings.warn(\"urllib3 ({}) or chardet ({}) doesn't match a supported \"\n"
     ]
    }
   ],
   "source": [
    "from pathlib import Path\n",
    "from typing import Union, Optional, List, Tuple\n",
    "from fastai.vision.all import *\n",
    "import xml.etree.ElementTree as ET\n",
    "from collections import defaultdict\n",
    "from dataclasses import dataclass\n",
    "import zipfile"
   ]
  },
  {
   "cell_type": "code",
   "execution_count": 29,
   "metadata": {},
   "outputs": [
    {
     "name": "stdout",
     "output_type": "stream",
     "text": [
      "기타부유물: 21321\n",
      "선박: 46712\n",
      "부표: 4653\n",
      "등대: 7172\n",
      "어망부표: 2013\n",
      "해상풍력: 6275\n",
      "﻿선박: 85\n"
     ]
    }
   ],
   "source": [
    "target_name = \"Modified_Data\"\n",
    "dataset_path = Path(f\"/mnt/disks/data1/aihub/Training/{target_name}\")\n",
    "\n",
    "def count_categories(dataset_path):\n",
    "    category_counts = defaultdict(int)\n",
    "\n",
    "    for file in dataset_path.glob(\"**/*\"):\n",
    "        if file.suffix == \".xml\":\n",
    "            tree = ET.parse(file)\n",
    "            root = tree.getroot()\n",
    "            for obj in root.findall('object'):\n",
    "                category = obj.find('property/category').text\n",
    "                category_counts[category] += 1\n",
    "\n",
    "    for category, count in category_counts.items():\n",
    "        print(f\"{category}: {count}\")\n",
    "\n",
    "count_categories(dataset_path)"
   ]
  },
  {
   "cell_type": "code",
   "execution_count": 30,
   "metadata": {},
   "outputs": [
    {
     "name": "stdout",
     "output_type": "stream",
     "text": [
      "average size: 131757.72061973682\n"
     ]
    },
    {
     "data": {
      "application/vnd.jupyter.widget-view+json": {
       "model_id": "420123b777c6497db72e34141859303a",
       "version_major": 2,
       "version_minor": 0
      },
      "text/plain": [
       "interactive(children=(IntSlider(value=0, description='idx', max=49), Output()), _dom_classes=('widget-interact…"
      ]
     },
     "metadata": {},
     "output_type": "display_data"
    }
   ],
   "source": [
    "from IPython.display import display\n",
    "from ipywidgets import widgets, interact\n",
    "\n",
    "dataset_path = Path(f\"/mnt/disks/data1/aihub/Training/{target_name}\")\n",
    "box_sizes = []\n",
    "files = []\n",
    "\n",
    "for file in dataset_path.glob(\"**/*\"):\n",
    "    if file.suffix == \".xml\":\n",
    "        tree = ET.parse(file)\n",
    "        root = tree.getroot()\n",
    "        for obj in root.findall('object'):\n",
    "            bbox = obj.find('bbox').text # \"[x, y, w, h]\"\n",
    "            bbox = bbox.replace(\"[\", \"\").replace(\"]\", \"\")\n",
    "            bbox = bbox.split(\",\")\n",
    "            bbox = [float(x) for x in bbox]\n",
    "            size = bbox[2] * bbox[3]\n",
    "            if size > 4000: # 객체 크기가 4000 이상인 경우만 선별\n",
    "                file = file.with_suffix(\".jpg\") # change extension\n",
    "                files.append(file)\n",
    "            \n",
    "            box_sizes.append(size)\n",
    "\n",
    "# delete duplicates\n",
    "files = list(set(files))\n",
    "files = files[:50] # 확인 할 이미지 개수\n",
    "\n",
    "# average box size\n",
    "print(f\"average size: {sum(box_sizes) / len(box_sizes)}\")\n",
    "\n",
    "# display images using slider\n",
    "@interact(idx=widgets.IntSlider(min=0, max=len(files)-1, step=1, value=0))\n",
    "def display_image(idx):\n",
    "    img = PILImage.open(imgs[idx])\n",
    "    display(img)"
   ]
  },
  {
   "cell_type": "code",
   "execution_count": 31,
   "metadata": {},
   "outputs": [],
   "source": [
    "import xml.etree.ElementTree as ET\n",
    "\n",
    "dataset_path = Path(f\"/mnt/disks/data1/aihub/Training/{target_name}\")\n",
    "label_xml = []\n",
    "\n",
    "categories = {\n",
    "    \"선박\": \"0\",\n",
    "    \"부표\": \"1\",\n",
    "    \"기타부유물\": \"2\",\n",
    "    \"등대\": \"3\",\n",
    "    \"어망부표\": \"4\",\n",
    "}\n",
    "\n",
    "def normalize_bbox(bbox, width, height):\n",
    "    x, y, w, h = bbox\n",
    "    x = ((x+(w/2)) / 3840) \n",
    "    y = ((y+(h/2)) / 2160) \n",
    "    w = (w / 3840) \n",
    "    h = (h / 2160) \n",
    "    return x, y, w, h\n",
    "\n",
    "# scan the jpg files recursively. path is the absolute path from the dataset_path\n",
    "# label file format is <category> <x> <y> <w> <h>\n",
    "for file in dataset_path.glob(\"**/*\"):\n",
    "    if file.suffix == '.xml':\n",
    "        labels = []\n",
    "        tree = ET.parse(file)\n",
    "        root = tree.getroot()\n",
    "        width = int(root.find('size/width').text)\n",
    "        height = int(root.find('size/height').text)\n",
    "        for obj in root.findall('object'):\n",
    "            label = obj.find('bbox').text # \"[x, y, w, h]\"\n",
    "            label = label.replace(\"[\", \"\").replace(\"]\", \"\")\n",
    "            label = label.split(\",\")\n",
    "            label = [float(x) for x in label]\n",
    "            labels.append(label)\n",
    "        \n",
    "        with open(file.with_suffix('.txt'), 'w') as f:\n",
    "            for obj, label in zip(root.findall('object'), labels):\n",
    "                category = obj.find('property/category').text\n",
    "                if category not in categories:\n",
    "                    continue  # Skip this category and go to the next label\n",
    "\n",
    "                category = categories[category]\n",
    "                x, y, w, h = normalize_bbox(label, width, height)\n",
    "                f.write(f\"{category} {x} {y} {w} {h}\\n\")\n"
   ]
  },
  {
   "cell_type": "code",
   "execution_count": 32,
   "metadata": {},
   "outputs": [],
   "source": [
    "import random\n",
    "\n",
    "# record the name of images on the path\n",
    "# saves the list of the 'jpg' files on the 'images.txt' file\n",
    "dataset_path = Path(f\"/mnt/disks/data1/aihub/Training/{target_name}\")\n",
    "image_files = []\n",
    "\n",
    "# scan the jpg files recursively. path is the absolute path from the dataset_path\n",
    "for file in dataset_path.glob(\"**/*\"):\n",
    "    if file.suffix == \".jpg\":\n",
    "        image_files.append(file)\n",
    "\n",
    "# save the list of the image files\n",
    "with open(\"images.txt\", \"w\") as f:\n",
    "    for file in image_files:\n",
    "        f.write(str(file) + \"\\n\")\n",
    "\n",
    "# separate the images.txt into train.txt, valid.txt, and test.txt\n",
    "with open(\"images.txt\", \"r\") as f:\n",
    "    lines = f.readlines()\n",
    "\n",
    "random.seed(42)\n",
    "random.shuffle(lines)\n",
    "\n",
    "with open(\"train.txt\", \"w\") as f:\n",
    "    for line in lines[:int(len(lines) * 0.7)]:\n",
    "        f.write(line)\n",
    "\n",
    "with open(\"valid.txt\", \"w\") as f:\n",
    "    for line in lines[int(len(lines) * 0.7):int(len(lines) * 0.85)]:\n",
    "        f.write(line)\n",
    "\n",
    "with open(\"test.txt\", \"w\") as f:\n",
    "    for line in lines[int(len(lines) * 0.85):]:\n",
    "        f.write(line)\n",
    "\n",
    "# copy the train.txt, valid.txt, and test.txt to the dataset_path\n",
    "!cp images.txt {dataset_path}\n",
    "!cp train.txt {dataset_path}\n",
    "!cp valid.txt {dataset_path}\n",
    "!cp test.txt {dataset_path}\n"
   ]
  },
  {
   "cell_type": "code",
   "execution_count": 33,
   "metadata": {},
   "outputs": [
    {
     "name": "stdout",
     "output_type": "stream",
     "text": [
      "{'path': '/mnt/disks/data1/aihub/Training/Modified_Data', 'train': 'train.txt', 'val': 'valid.txt', 'test': 'test.txt', 'names': {0: '선박', 1: '부표', 2: '기타부유물', 3: '등대', 4: '어망부표'}}\n",
      "{'path': '/mnt/disks/data1/aihub/Training/Modified_Data', 'train': 'train.txt', 'val': 'valid.txt', 'test': 'test.txt', 'names': {0: '선박', 1: '부표', 2: '기타부유물', 3: '등대', 4: '어망부표'}}\n"
     ]
    }
   ],
   "source": [
    "import yaml\n",
    "\n",
    "with open(f'/mnt/disks/data1/aihub/Training/{target_name}/data.yaml', 'r') as f:\n",
    "  data = yaml.safe_load(f)\n",
    "\n",
    "print(data)\n",
    "\n",
    "\n",
    "with open(f'/mnt/disks/data1/aihub/Training/{target_name}/data.yaml', 'w') as f:\n",
    "  yaml.dump(data, f)\n",
    "\n",
    "print(data)"
   ]
  },
  {
   "cell_type": "code",
   "execution_count": 54,
   "metadata": {},
   "outputs": [
    {
     "name": "stderr",
     "output_type": "stream",
     "text": [
      "New https://pypi.org/project/ultralytics/8.0.141 available 😃 Update with 'pip install -U ultralytics'\n",
      "Ultralytics YOLOv8.0.137 🚀 Python-3.10.6 torch-2.0.1+cu117 CUDA:0 (NVIDIA A100-SXM4-40GB, 40377MiB)\n",
      "\u001b[34m\u001b[1mengine/trainer: \u001b[0mtask=detect, mode=train, model=model/yolov8l.pt, data=/mnt/disks/data1/aihub/Training/동해_묵호항_1구역_BOX/data.yaml, epochs=20, patience=50, batch=16, imgsz=640, save=True, save_period=-1, cache=False, device=None, workers=8, project=None, name=None, exist_ok=False, pretrained=True, optimizer=auto, verbose=True, seed=0, deterministic=True, single_cls=False, rect=False, cos_lr=False, close_mosaic=10, resume=False, amp=True, fraction=1.0, profile=False, overlap_mask=True, mask_ratio=4, dropout=0.0, val=True, split=val, save_json=False, save_hybrid=False, conf=None, iou=0.7, max_det=300, half=False, dnn=False, plots=True, source=None, show=False, save_txt=False, save_conf=False, save_crop=False, show_labels=True, show_conf=True, vid_stride=1, line_width=None, visualize=False, augment=False, agnostic_nms=False, classes=None, retina_masks=False, boxes=True, format=torchscript, keras=False, optimize=False, int8=False, dynamic=False, simplify=False, opset=None, workspace=4, nms=False, lr0=0.01, lrf=0.01, momentum=0.937, weight_decay=0.0005, warmup_epochs=3.0, warmup_momentum=0.8, warmup_bias_lr=0.1, box=7.5, cls=0.5, dfl=1.5, pose=12.0, kobj=1.0, label_smoothing=0.0, nbs=64, hsv_h=0.015, hsv_s=0.7, hsv_v=0.4, degrees=0.0, translate=0.1, scale=0.5, shear=0.0, perspective=0.0, flipud=0.0, fliplr=0.5, mosaic=1.0, mixup=0.0, copy_paste=0.0, cfg=None, tracker=botsort.yaml, save_dir=runs/detect/train16\n",
      "Overriding model.yaml nc=80 with nc=5\n",
      "\n",
      "                   from  n    params  module                                       arguments                     \n",
      "  0                  -1  1      1856  ultralytics.nn.modules.conv.Conv             [3, 64, 3, 2]                 \n",
      "  1                  -1  1     73984  ultralytics.nn.modules.conv.Conv             [64, 128, 3, 2]               \n",
      "  2                  -1  3    279808  ultralytics.nn.modules.block.C2f             [128, 128, 3, True]           \n",
      "  3                  -1  1    295424  ultralytics.nn.modules.conv.Conv             [128, 256, 3, 2]              \n",
      "  4                  -1  6   2101248  ultralytics.nn.modules.block.C2f             [256, 256, 6, True]           \n",
      "  5                  -1  1   1180672  ultralytics.nn.modules.conv.Conv             [256, 512, 3, 2]              \n",
      "  6                  -1  6   8396800  ultralytics.nn.modules.block.C2f             [512, 512, 6, True]           \n",
      "  7                  -1  1   2360320  ultralytics.nn.modules.conv.Conv             [512, 512, 3, 2]              \n",
      "  8                  -1  3   4461568  ultralytics.nn.modules.block.C2f             [512, 512, 3, True]           \n",
      "  9                  -1  1    656896  ultralytics.nn.modules.block.SPPF            [512, 512, 5]                 \n",
      " 10                  -1  1         0  torch.nn.modules.upsampling.Upsample         [None, 2, 'nearest']          \n",
      " 11             [-1, 6]  1         0  ultralytics.nn.modules.conv.Concat           [1]                           \n",
      " 12                  -1  3   4723712  ultralytics.nn.modules.block.C2f             [1024, 512, 3]                \n",
      " 13                  -1  1         0  torch.nn.modules.upsampling.Upsample         [None, 2, 'nearest']          \n",
      " 14             [-1, 4]  1         0  ultralytics.nn.modules.conv.Concat           [1]                           \n",
      " 15                  -1  3   1247744  ultralytics.nn.modules.block.C2f             [768, 256, 3]                 \n",
      " 16                  -1  1    590336  ultralytics.nn.modules.conv.Conv             [256, 256, 3, 2]              \n",
      " 17            [-1, 12]  1         0  ultralytics.nn.modules.conv.Concat           [1]                           \n",
      " 18                  -1  3   4592640  ultralytics.nn.modules.block.C2f             [768, 512, 3]                 \n",
      " 19                  -1  1   2360320  ultralytics.nn.modules.conv.Conv             [512, 512, 3, 2]              \n",
      " 20             [-1, 9]  1         0  ultralytics.nn.modules.conv.Concat           [1]                           \n",
      " 21                  -1  3   4723712  ultralytics.nn.modules.block.C2f             [1024, 512, 3]                \n",
      " 22        [15, 18, 21]  1   5586655  ultralytics.nn.modules.head.Detect           [5, [256, 512, 512]]          \n",
      "Model summary: 365 layers, 43633695 parameters, 43633679 gradients\n",
      "\n",
      "Transferred 589/595 items from pretrained weights\n",
      "\u001b[34m\u001b[1mAMP: \u001b[0mrunning Automatic Mixed Precision (AMP) checks with YOLOv8n...\n",
      "Downloading https://github.com/ultralytics/assets/releases/download/v0.0.0/yolov8n.pt to yolov8n.pt...\n",
      "100%|██████████| 6.23M/6.23M [00:00<00:00, 28.2MB/s]\n",
      "\u001b[34m\u001b[1mAMP: \u001b[0mchecks passed ✅\n",
      "\u001b[34m\u001b[1mtrain: \u001b[0mScanning /mnt/disks/data1/aihub/Training/동해_묵호항_1구역_BOX/20210209/0001... 16084 images, 0 backgrounds, 0 corrupt: 100%|██████████| 16084/16084 [00:13<00:00, 1231.41it/s]\n",
      "\u001b[34m\u001b[1mtrain: \u001b[0mNew cache created: /mnt/disks/data1/aihub/Training/동해_묵호항_1구역_BOX/20210209/0001.cache\n",
      "\u001b[34m\u001b[1mval: \u001b[0mScanning /mnt/disks/data1/aihub/Training/동해_묵호항_1구역_BOX/20210209/0001... 4021 images, 0 backgrounds, 0 corrupt: 100%|██████████| 4021/4021 [00:04<00:00, 951.64it/s] \n",
      "\u001b[34m\u001b[1mval: \u001b[0mNew cache created: /mnt/disks/data1/aihub/Training/동해_묵호항_1구역_BOX/20210209/0001.cache\n",
      "Plotting labels to runs/detect/train16/labels.jpg... \n",
      "/home/aihub_juhoon/ultralytics/ultralytics/utils/plotting.py:288: UserWarning: Glyph 49440 (\\N{HANGUL SYLLABLE SEON}) missing from current font.\n",
      "  plt.savefig(fname, dpi=200)\n",
      "/home/aihub_juhoon/ultralytics/ultralytics/utils/plotting.py:288: UserWarning: Glyph 48149 (\\N{HANGUL SYLLABLE BAG}) missing from current font.\n",
      "  plt.savefig(fname, dpi=200)\n",
      "/home/aihub_juhoon/ultralytics/ultralytics/utils/plotting.py:288: UserWarning: Glyph 48512 (\\N{HANGUL SYLLABLE BU}) missing from current font.\n",
      "  plt.savefig(fname, dpi=200)\n",
      "/home/aihub_juhoon/ultralytics/ultralytics/utils/plotting.py:288: UserWarning: Glyph 54364 (\\N{HANGUL SYLLABLE PYO}) missing from current font.\n",
      "  plt.savefig(fname, dpi=200)\n",
      "/home/aihub_juhoon/ultralytics/ultralytics/utils/plotting.py:288: UserWarning: Glyph 44592 (\\N{HANGUL SYLLABLE GI}) missing from current font.\n",
      "  plt.savefig(fname, dpi=200)\n",
      "/home/aihub_juhoon/ultralytics/ultralytics/utils/plotting.py:288: UserWarning: Glyph 53440 (\\N{HANGUL SYLLABLE TA}) missing from current font.\n",
      "  plt.savefig(fname, dpi=200)\n",
      "/home/aihub_juhoon/ultralytics/ultralytics/utils/plotting.py:288: UserWarning: Glyph 50976 (\\N{HANGUL SYLLABLE YU}) missing from current font.\n",
      "  plt.savefig(fname, dpi=200)\n",
      "/home/aihub_juhoon/ultralytics/ultralytics/utils/plotting.py:288: UserWarning: Glyph 47932 (\\N{HANGUL SYLLABLE MUL}) missing from current font.\n",
      "  plt.savefig(fname, dpi=200)\n",
      "/home/aihub_juhoon/ultralytics/ultralytics/utils/plotting.py:288: UserWarning: Glyph 46321 (\\N{HANGUL SYLLABLE DEUNG}) missing from current font.\n",
      "  plt.savefig(fname, dpi=200)\n",
      "/home/aihub_juhoon/ultralytics/ultralytics/utils/plotting.py:288: UserWarning: Glyph 45824 (\\N{HANGUL SYLLABLE DAE}) missing from current font.\n",
      "  plt.savefig(fname, dpi=200)\n",
      "/home/aihub_juhoon/ultralytics/ultralytics/utils/plotting.py:288: UserWarning: Glyph 50612 (\\N{HANGUL SYLLABLE EO}) missing from current font.\n",
      "  plt.savefig(fname, dpi=200)\n",
      "/home/aihub_juhoon/ultralytics/ultralytics/utils/plotting.py:288: UserWarning: Glyph 47581 (\\N{HANGUL SYLLABLE MANG}) missing from current font.\n",
      "  plt.savefig(fname, dpi=200)\n",
      "/home/aihub_juhoon/ultralytics/ultralytics/utils/plotting.py:288: UserWarning: Glyph 49440 (\\N{HANGUL SYLLABLE SEON}) missing from current font.\n",
      "  plt.savefig(fname, dpi=200)\n",
      "/home/aihub_juhoon/ultralytics/ultralytics/utils/plotting.py:288: UserWarning: Glyph 48149 (\\N{HANGUL SYLLABLE BAG}) missing from current font.\n",
      "  plt.savefig(fname, dpi=200)\n",
      "/home/aihub_juhoon/ultralytics/ultralytics/utils/plotting.py:288: UserWarning: Glyph 48512 (\\N{HANGUL SYLLABLE BU}) missing from current font.\n",
      "  plt.savefig(fname, dpi=200)\n",
      "/home/aihub_juhoon/ultralytics/ultralytics/utils/plotting.py:288: UserWarning: Glyph 54364 (\\N{HANGUL SYLLABLE PYO}) missing from current font.\n",
      "  plt.savefig(fname, dpi=200)\n",
      "/home/aihub_juhoon/ultralytics/ultralytics/utils/plotting.py:288: UserWarning: Glyph 44592 (\\N{HANGUL SYLLABLE GI}) missing from current font.\n",
      "  plt.savefig(fname, dpi=200)\n",
      "/home/aihub_juhoon/ultralytics/ultralytics/utils/plotting.py:288: UserWarning: Glyph 53440 (\\N{HANGUL SYLLABLE TA}) missing from current font.\n",
      "  plt.savefig(fname, dpi=200)\n",
      "/home/aihub_juhoon/ultralytics/ultralytics/utils/plotting.py:288: UserWarning: Glyph 50976 (\\N{HANGUL SYLLABLE YU}) missing from current font.\n",
      "  plt.savefig(fname, dpi=200)\n",
      "/home/aihub_juhoon/ultralytics/ultralytics/utils/plotting.py:288: UserWarning: Glyph 47932 (\\N{HANGUL SYLLABLE MUL}) missing from current font.\n",
      "  plt.savefig(fname, dpi=200)\n",
      "/home/aihub_juhoon/ultralytics/ultralytics/utils/plotting.py:288: UserWarning: Glyph 46321 (\\N{HANGUL SYLLABLE DEUNG}) missing from current font.\n",
      "  plt.savefig(fname, dpi=200)\n",
      "/home/aihub_juhoon/ultralytics/ultralytics/utils/plotting.py:288: UserWarning: Glyph 45824 (\\N{HANGUL SYLLABLE DAE}) missing from current font.\n",
      "  plt.savefig(fname, dpi=200)\n",
      "/home/aihub_juhoon/ultralytics/ultralytics/utils/plotting.py:288: UserWarning: Glyph 50612 (\\N{HANGUL SYLLABLE EO}) missing from current font.\n",
      "  plt.savefig(fname, dpi=200)\n",
      "/home/aihub_juhoon/ultralytics/ultralytics/utils/plotting.py:288: UserWarning: Glyph 47581 (\\N{HANGUL SYLLABLE MANG}) missing from current font.\n",
      "  plt.savefig(fname, dpi=200)\n",
      "\u001b[34m\u001b[1moptimizer:\u001b[0m AdamW(lr=0.001111, momentum=0.9) with parameter groups 97 weight(decay=0.0), 104 weight(decay=0.0005), 103 bias(decay=0.0)\n",
      "Image sizes 640 train, 640 val\n",
      "Using 8 dataloader workers\n",
      "Logging results to \u001b[1mruns/detect/train16\u001b[0m\n",
      "Starting training for 20 epochs...\n",
      "\n",
      "      Epoch    GPU_mem   box_loss   cls_loss   dfl_loss  Instances       Size\n",
      "       1/20      9.81G      2.561      2.713      1.447         18        640: 100%|██████████| 1006/1006 [05:46<00:00,  2.91it/s]\n",
      "                 Class     Images  Instances      Box(P          R      mAP50  mAP50-95): 100%|██████████| 126/126 [01:12<00:00,  1.73it/s]\n",
      "                   all       4021      14625      0.435      0.193      0.165     0.0728\n",
      "\n",
      "      Epoch    GPU_mem   box_loss   cls_loss   dfl_loss  Instances       Size\n",
      "       2/20      10.2G       2.08      1.802      1.262         26        640: 100%|██████████| 1006/1006 [05:37<00:00,  2.98it/s]\n",
      "                 Class     Images  Instances      Box(P          R      mAP50  mAP50-95): 100%|██████████| 126/126 [01:09<00:00,  1.82it/s]\n",
      "                   all       4021      14625       0.41      0.234      0.208      0.107\n",
      "\n",
      "      Epoch    GPU_mem   box_loss   cls_loss   dfl_loss  Instances       Size\n",
      "       3/20      10.3G      1.897      1.588      1.191         22        640: 100%|██████████| 1006/1006 [05:28<00:00,  3.06it/s]\n",
      "                 Class     Images  Instances      Box(P          R      mAP50  mAP50-95): 100%|██████████| 126/126 [01:09<00:00,  1.82it/s]\n",
      "                   all       4021      14625      0.279      0.275      0.258      0.137\n",
      "\n",
      "      Epoch    GPU_mem   box_loss   cls_loss   dfl_loss  Instances       Size\n",
      "       4/20      10.2G      1.747      1.426      1.141         28        640: 100%|██████████| 1006/1006 [05:27<00:00,  3.07it/s]\n",
      "                 Class     Images  Instances      Box(P          R      mAP50  mAP50-95): 100%|██████████| 126/126 [01:15<00:00,  1.68it/s]\n",
      "                   all       4021      14625      0.442      0.302      0.302      0.166\n",
      "\n",
      "      Epoch    GPU_mem   box_loss   cls_loss   dfl_loss  Instances       Size\n",
      "       5/20      10.2G      1.641      1.299      1.101         14        640: 100%|██████████| 1006/1006 [05:18<00:00,  3.16it/s]\n",
      "                 Class     Images  Instances      Box(P          R      mAP50  mAP50-95): 100%|██████████| 126/126 [01:06<00:00,  1.88it/s]\n",
      "                   all       4021      14625      0.456      0.361      0.362      0.208\n",
      "\n",
      "      Epoch    GPU_mem   box_loss   cls_loss   dfl_loss  Instances       Size\n",
      "       6/20      10.2G      1.558        1.2      1.074        117        640:  88%|████████▊ | 882/1006 [04:40<00:39,  3.15it/s]\n"
     ]
    },
    {
     "ename": "KeyboardInterrupt",
     "evalue": "",
     "output_type": "error",
     "traceback": [
      "\u001b[0;31m---------------------------------------------------------------------------\u001b[0m",
      "\u001b[0;31mKeyboardInterrupt\u001b[0m                         Traceback (most recent call last)",
      "Cell \u001b[0;32mIn[54], line 5\u001b[0m\n\u001b[1;32m      3\u001b[0m \u001b[39m# Load a model\u001b[39;00m\n\u001b[1;32m      4\u001b[0m model \u001b[39m=\u001b[39m YOLO(\u001b[39m'\u001b[39m\u001b[39mmodel/yolov8l.pt\u001b[39m\u001b[39m'\u001b[39m)\n\u001b[0;32m----> 5\u001b[0m model\u001b[39m.\u001b[39;49mtrain(data\u001b[39m=\u001b[39;49m\u001b[39m'\u001b[39;49m\u001b[39m/mnt/disks/data1/aihub/Training/동해_묵호항_1구역_BOX/data.yaml\u001b[39;49m\u001b[39m'\u001b[39;49m, epochs\u001b[39m=\u001b[39;49m\u001b[39m20\u001b[39;49m, imgsz\u001b[39m=\u001b[39;49m\u001b[39m640\u001b[39;49m)\n",
      "File \u001b[0;32m~/ultralytics/ultralytics/engine/model.py:372\u001b[0m, in \u001b[0;36mYOLO.train\u001b[0;34m(self, **kwargs)\u001b[0m\n\u001b[1;32m    370\u001b[0m     \u001b[39mself\u001b[39m\u001b[39m.\u001b[39mmodel \u001b[39m=\u001b[39m \u001b[39mself\u001b[39m\u001b[39m.\u001b[39mtrainer\u001b[39m.\u001b[39mmodel\n\u001b[1;32m    371\u001b[0m \u001b[39mself\u001b[39m\u001b[39m.\u001b[39mtrainer\u001b[39m.\u001b[39mhub_session \u001b[39m=\u001b[39m \u001b[39mself\u001b[39m\u001b[39m.\u001b[39msession  \u001b[39m# attach optional HUB session\u001b[39;00m\n\u001b[0;32m--> 372\u001b[0m \u001b[39mself\u001b[39;49m\u001b[39m.\u001b[39;49mtrainer\u001b[39m.\u001b[39;49mtrain()\n\u001b[1;32m    373\u001b[0m \u001b[39m# Update model and cfg after training\u001b[39;00m\n\u001b[1;32m    374\u001b[0m \u001b[39mif\u001b[39;00m RANK \u001b[39min\u001b[39;00m (\u001b[39m-\u001b[39m\u001b[39m1\u001b[39m, \u001b[39m0\u001b[39m):\n",
      "File \u001b[0;32m~/ultralytics/ultralytics/engine/trainer.py:192\u001b[0m, in \u001b[0;36mBaseTrainer.train\u001b[0;34m(self)\u001b[0m\n\u001b[1;32m    190\u001b[0m         ddp_cleanup(\u001b[39mself\u001b[39m, \u001b[39mstr\u001b[39m(file))\n\u001b[1;32m    191\u001b[0m \u001b[39melse\u001b[39;00m:\n\u001b[0;32m--> 192\u001b[0m     \u001b[39mself\u001b[39;49m\u001b[39m.\u001b[39;49m_do_train(world_size)\n",
      "File \u001b[0;32m~/ultralytics/ultralytics/engine/trainer.py:351\u001b[0m, in \u001b[0;36mBaseTrainer._do_train\u001b[0;34m(self, world_size)\u001b[0m\n\u001b[1;32m    349\u001b[0m losses \u001b[39m=\u001b[39m \u001b[39mself\u001b[39m\u001b[39m.\u001b[39mtloss \u001b[39mif\u001b[39;00m loss_len \u001b[39m>\u001b[39m \u001b[39m1\u001b[39m \u001b[39melse\u001b[39;00m torch\u001b[39m.\u001b[39munsqueeze(\u001b[39mself\u001b[39m\u001b[39m.\u001b[39mtloss, \u001b[39m0\u001b[39m)\n\u001b[1;32m    350\u001b[0m \u001b[39mif\u001b[39;00m RANK \u001b[39min\u001b[39;00m (\u001b[39m-\u001b[39m\u001b[39m1\u001b[39m, \u001b[39m0\u001b[39m):\n\u001b[0;32m--> 351\u001b[0m     pbar\u001b[39m.\u001b[39;49mset_description(\n\u001b[1;32m    352\u001b[0m         (\u001b[39m'\u001b[39;49m\u001b[39m%11s\u001b[39;49;00m\u001b[39m'\u001b[39;49m \u001b[39m*\u001b[39;49m \u001b[39m2\u001b[39;49m \u001b[39m+\u001b[39;49m \u001b[39m'\u001b[39;49m\u001b[39m%11.4g\u001b[39;49;00m\u001b[39m'\u001b[39;49m \u001b[39m*\u001b[39;49m (\u001b[39m2\u001b[39;49m \u001b[39m+\u001b[39;49m loss_len)) \u001b[39m%\u001b[39;49m\n\u001b[1;32m    353\u001b[0m         (\u001b[39mf\u001b[39;49m\u001b[39m'\u001b[39;49m\u001b[39m{\u001b[39;49;00mepoch\u001b[39m \u001b[39;49m\u001b[39m+\u001b[39;49m\u001b[39m \u001b[39;49m\u001b[39m1\u001b[39;49m\u001b[39m}\u001b[39;49;00m\u001b[39m/\u001b[39;49m\u001b[39m{\u001b[39;49;00m\u001b[39mself\u001b[39;49m\u001b[39m.\u001b[39;49mepochs\u001b[39m}\u001b[39;49;00m\u001b[39m'\u001b[39;49m, mem, \u001b[39m*\u001b[39;49mlosses, batch[\u001b[39m'\u001b[39;49m\u001b[39mcls\u001b[39;49m\u001b[39m'\u001b[39;49m]\u001b[39m.\u001b[39;49mshape[\u001b[39m0\u001b[39;49m], batch[\u001b[39m'\u001b[39;49m\u001b[39mimg\u001b[39;49m\u001b[39m'\u001b[39;49m]\u001b[39m.\u001b[39;49mshape[\u001b[39m-\u001b[39;49m\u001b[39m1\u001b[39;49m]))\n\u001b[1;32m    354\u001b[0m     \u001b[39mself\u001b[39m\u001b[39m.\u001b[39mrun_callbacks(\u001b[39m'\u001b[39m\u001b[39mon_batch_end\u001b[39m\u001b[39m'\u001b[39m)\n\u001b[1;32m    355\u001b[0m     \u001b[39mif\u001b[39;00m \u001b[39mself\u001b[39m\u001b[39m.\u001b[39margs\u001b[39m.\u001b[39mplots \u001b[39mand\u001b[39;00m ni \u001b[39min\u001b[39;00m \u001b[39mself\u001b[39m\u001b[39m.\u001b[39mplot_idx:\n",
      "File \u001b[0;32m~/.local/lib/python3.10/site-packages/tqdm/std.py:1379\u001b[0m, in \u001b[0;36mtqdm.set_description\u001b[0;34m(self, desc, refresh)\u001b[0m\n\u001b[1;32m   1376\u001b[0m     \u001b[39mself\u001b[39m\u001b[39m.\u001b[39m_ema_miniters \u001b[39m=\u001b[39m EMA(\u001b[39mself\u001b[39m\u001b[39m.\u001b[39msmoothing)\n\u001b[1;32m   1377\u001b[0m     \u001b[39mself\u001b[39m\u001b[39m.\u001b[39mrefresh()\n\u001b[0;32m-> 1379\u001b[0m \u001b[39mdef\u001b[39;00m \u001b[39mset_description\u001b[39m(\u001b[39mself\u001b[39m, desc\u001b[39m=\u001b[39m\u001b[39mNone\u001b[39;00m, refresh\u001b[39m=\u001b[39m\u001b[39mTrue\u001b[39;00m):\n\u001b[1;32m   1380\u001b[0m \u001b[39m    \u001b[39m\u001b[39m\"\"\"\u001b[39;00m\n\u001b[1;32m   1381\u001b[0m \u001b[39m    Set/modify description of the progress bar.\u001b[39;00m\n\u001b[1;32m   1382\u001b[0m \n\u001b[0;32m   (...)\u001b[0m\n\u001b[1;32m   1387\u001b[0m \u001b[39m        Forces refresh [default: True].\u001b[39;00m\n\u001b[1;32m   1388\u001b[0m \u001b[39m    \"\"\"\u001b[39;00m\n\u001b[1;32m   1389\u001b[0m     \u001b[39mself\u001b[39m\u001b[39m.\u001b[39mdesc \u001b[39m=\u001b[39m desc \u001b[39m+\u001b[39m \u001b[39m'\u001b[39m\u001b[39m: \u001b[39m\u001b[39m'\u001b[39m \u001b[39mif\u001b[39;00m desc \u001b[39melse\u001b[39;00m \u001b[39m'\u001b[39m\u001b[39m'\u001b[39m\n",
      "\u001b[0;31mKeyboardInterrupt\u001b[0m: "
     ]
    }
   ],
   "source": [
    "from ultralytics import YOLO\n",
    "\n",
    "# Load a model\n",
    "model = YOLO('model/yolov8l.pt')\n",
    "model.train(data=f'/mnt/disks/data1/aihub/Training/{target_name}/data.yaml', epochs=20, imgsz=640)"
   ]
  }
 ],
 "metadata": {
  "kernelspec": {
   "display_name": "pius311",
   "language": "python",
   "name": "python3"
  },
  "language_info": {
   "codemirror_mode": {
    "name": "ipython",
    "version": 3
   },
   "file_extension": ".py",
   "mimetype": "text/x-python",
   "name": "python",
   "nbconvert_exporter": "python",
   "pygments_lexer": "ipython3",
   "version": "3.10.12"
  },
  "orig_nbformat": 4
 },
 "nbformat": 4,
 "nbformat_minor": 2
}
